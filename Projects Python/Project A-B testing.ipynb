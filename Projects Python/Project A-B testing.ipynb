{
 "cells": [
  {
   "cell_type": "markdown",
   "id": "d7f0a389-5b9c-4d7d-8773-3bd2975d2284",
   "metadata": {},
   "source": [
    "# A/B Test — Subscription Conversion Optimization"
   ]
  },
  {
   "cell_type": "markdown",
   "id": "edb84ae4-203a-4376-ba29-ffea669ea881",
   "metadata": {},
   "source": [
    "### Author: Svitlana Prasolova"
   ]
  },
  {
   "cell_type": "markdown",
   "id": "0eaa4137-a492-4078-9fea-ce6b4a9603e3",
   "metadata": {},
   "source": [
    "# Project Description\n",
    "#### Goal: To determine whether emphasizing a “50% discount” message on the subscription screen increases purchase conversion compared to the standard $4.99 offer.\n",
    "The experiment was conducted to evaluate the impact of visual pricing cues on user conversion.\n",
    "Two user groups participated: \n",
    "- Group A (Control): Standard $4.99 subscription screen;\n",
    "- Group B (Variant): Same $4.99 offer labeled as '50% discount'."
   ]
  },
  {
   "cell_type": "markdown",
   "id": "ca69d24f-63a9-47d8-9879-5de928d0383a",
   "metadata": {},
   "source": [
    "## Project Task:\n",
    "- Design and run an A/B test on the subscription screen.\n",
    "- Compare user conversion between control (A) and variant (B) groups.\n",
    "- Evaluate statistical significance using a hypothesis test.\n",
    "- Visualize conversion rates with 95% confidence intervals.\n",
    "- Draw business conclusions and decide on rollout."
   ]
  },
  {
   "cell_type": "markdown",
   "id": "401360ef-ad57-491f-8af5-ea88d3468c3a",
   "metadata": {},
   "source": [
    "## Results\n",
    "The A/B test ran for 21 days (July 3–25, 2023) and revealed a significant uplift in conversion for the variant with the “50% discount” label.\n",
    "- Group A: 6.10% conversion\n",
    "- Group B: 8.90% conversion\n",
    "- t-statistic = −7.53, p-value ≈ 0.0 → significant at α = 0.05\n",
    "The discount design consistently outperformed the control version across the entire test period.\n",
    "### Conclusion:\n",
    "Highlighting a “50% discount” on the subscription screen significantly increased conversions. The result is statistically robust and stable over time."
   ]
  },
  {
   "cell_type": "markdown",
   "id": "4de6c750-b7a5-4a9e-a3e2-d69497faf53e",
   "metadata": {},
   "source": [
    "# Process\n",
    "### Preparing work environment\n",
    "I will be using Python for the data transformation and research. The following libraries are installed:"
   ]
  },
  {
   "cell_type": "code",
   "execution_count": 4,
   "id": "de8f0501-9f21-4067-a49b-c0b78cac8f28",
   "metadata": {},
   "outputs": [
    {
     "data": {
      "text/html": [
       "<div>\n",
       "<style scoped>\n",
       "    .dataframe tbody tr th:only-of-type {\n",
       "        vertical-align: middle;\n",
       "    }\n",
       "\n",
       "    .dataframe tbody tr th {\n",
       "        vertical-align: top;\n",
       "    }\n",
       "\n",
       "    .dataframe thead th {\n",
       "        text-align: right;\n",
       "    }\n",
       "</style>\n",
       "<table border=\"1\" class=\"dataframe\">\n",
       "  <thead>\n",
       "    <tr style=\"text-align: right;\">\n",
       "      <th></th>\n",
       "      <th>user_id</th>\n",
       "      <th>timestamp</th>\n",
       "      <th>test_group</th>\n",
       "      <th>conversion</th>\n",
       "    </tr>\n",
       "  </thead>\n",
       "  <tbody>\n",
       "    <tr>\n",
       "      <th>0</th>\n",
       "      <td>7f6833e6-1141-4f20-b4b2-f1e31019b1fd</td>\n",
       "      <td>2023-07-04 04:40:55.848109</td>\n",
       "      <td>a</td>\n",
       "      <td>0</td>\n",
       "    </tr>\n",
       "    <tr>\n",
       "      <th>1</th>\n",
       "      <td>e6a6e960-d3f3-4074-a516-ba1e609b211e</td>\n",
       "      <td>2023-07-06 00:26:45.486187</td>\n",
       "      <td>b</td>\n",
       "      <td>0</td>\n",
       "    </tr>\n",
       "    <tr>\n",
       "      <th>2</th>\n",
       "      <td>4d3fbfa5-6847-410a-bac2-477f01d5f400</td>\n",
       "      <td>2023-07-10 20:24:33.639464</td>\n",
       "      <td>b</td>\n",
       "      <td>0</td>\n",
       "    </tr>\n",
       "    <tr>\n",
       "      <th>3</th>\n",
       "      <td>361457d9-a044-48f7-981c-d67dc3861679</td>\n",
       "      <td>2023-07-20 07:04:49.957013</td>\n",
       "      <td>b</td>\n",
       "      <td>0</td>\n",
       "    </tr>\n",
       "    <tr>\n",
       "      <th>4</th>\n",
       "      <td>285cd63d-7d03-427f-a062-1fa2dd2e77d6</td>\n",
       "      <td>2023-07-19 23:27:50.116680</td>\n",
       "      <td>b</td>\n",
       "      <td>0</td>\n",
       "    </tr>\n",
       "  </tbody>\n",
       "</table>\n",
       "</div>"
      ],
      "text/plain": [
       "                                user_id                   timestamp  \\\n",
       "0  7f6833e6-1141-4f20-b4b2-f1e31019b1fd  2023-07-04 04:40:55.848109   \n",
       "1  e6a6e960-d3f3-4074-a516-ba1e609b211e  2023-07-06 00:26:45.486187   \n",
       "2  4d3fbfa5-6847-410a-bac2-477f01d5f400  2023-07-10 20:24:33.639464   \n",
       "3  361457d9-a044-48f7-981c-d67dc3861679  2023-07-20 07:04:49.957013   \n",
       "4  285cd63d-7d03-427f-a062-1fa2dd2e77d6  2023-07-19 23:27:50.116680   \n",
       "\n",
       "  test_group  conversion  \n",
       "0          a           0  \n",
       "1          b           0  \n",
       "2          b           0  \n",
       "3          b           0  \n",
       "4          b           0  "
      ]
     },
     "execution_count": 4,
     "metadata": {},
     "output_type": "execute_result"
    }
   ],
   "source": [
    "import pandas as pd\n",
    "import numpy as np\n",
    "\n",
    "df_AB_testing = pd.read_csv(r\"C:\\Users\\Світлана\\Pictures\\Data analuzes\\A-B testing\\_ab_test_data.csv\")\n",
    "df_AB_testing.head()                                      # Verifying the data"
   ]
  },
  {
   "cell_type": "code",
   "execution_count": 5,
   "id": "7811bcf6-4d24-4659-9fb1-32c9dfee6aff",
   "metadata": {},
   "outputs": [
    {
     "name": "stdout",
     "output_type": "stream",
     "text": [
      "<class 'pandas.core.frame.DataFrame'>\n",
      "RangeIndex: 19998 entries, 0 to 19997\n",
      "Data columns (total 4 columns):\n",
      " #   Column      Non-Null Count  Dtype \n",
      "---  ------      --------------  ----- \n",
      " 0   user_id     19998 non-null  object\n",
      " 1   timestamp   19998 non-null  object\n",
      " 2   test_group  19998 non-null  object\n",
      " 3   conversion  19998 non-null  int64 \n",
      "dtypes: int64(1), object(3)\n",
      "memory usage: 625.1+ KB\n"
     ]
    }
   ],
   "source": [
    "df_AB_testing.info()                                 # Data quality check"
   ]
  },
  {
   "cell_type": "code",
   "execution_count": 6,
   "id": "aefd38e5-3e91-4cfa-8f31-c2c98e6ee025",
   "metadata": {},
   "outputs": [
    {
     "data": {
      "text/plain": [
       "user_id       0\n",
       "timestamp     0\n",
       "test_group    0\n",
       "conversion    0\n",
       "dtype: int64"
      ]
     },
     "execution_count": 6,
     "metadata": {},
     "output_type": "execute_result"
    }
   ],
   "source": [
    "df_AB_testing.isnull().sum()                           # Data quality check"
   ]
  },
  {
   "cell_type": "markdown",
   "id": "97886527-a90e-4c73-a563-e155c95273e2",
   "metadata": {},
   "source": [
    "# Output information about the results of the A/B test:\n",
    "#### 1. Number of users in groups A and B, respectively"
   ]
  },
  {
   "cell_type": "code",
   "execution_count": 7,
   "id": "1e7c8608-1f86-44af-821c-ab28c3392ae9",
   "metadata": {},
   "outputs": [
    {
     "data": {
      "text/html": [
       "<div>\n",
       "<style scoped>\n",
       "    .dataframe tbody tr th:only-of-type {\n",
       "        vertical-align: middle;\n",
       "    }\n",
       "\n",
       "    .dataframe tbody tr th {\n",
       "        vertical-align: top;\n",
       "    }\n",
       "\n",
       "    .dataframe thead th {\n",
       "        text-align: right;\n",
       "    }\n",
       "</style>\n",
       "<table border=\"1\" class=\"dataframe\">\n",
       "  <thead>\n",
       "    <tr style=\"text-align: right;\">\n",
       "      <th></th>\n",
       "      <th>test_group</th>\n",
       "      <th>number_user_id</th>\n",
       "    </tr>\n",
       "  </thead>\n",
       "  <tbody>\n",
       "    <tr>\n",
       "      <th>0</th>\n",
       "      <td>a</td>\n",
       "      <td>10013</td>\n",
       "    </tr>\n",
       "    <tr>\n",
       "      <th>1</th>\n",
       "      <td>b</td>\n",
       "      <td>9985</td>\n",
       "    </tr>\n",
       "  </tbody>\n",
       "</table>\n",
       "</div>"
      ],
      "text/plain": [
       "  test_group  number_user_id\n",
       "0          a           10013\n",
       "1          b            9985"
      ]
     },
     "execution_count": 7,
     "metadata": {},
     "output_type": "execute_result"
    }
   ],
   "source": [
    "number_AB_testing = (                    #Pre-grouping test_group to determine the number of users in groups A and B, respectively\n",
    "    df_AB_testing\n",
    "    .groupby([\"test_group\"])\n",
    "    .agg(number_user_id=('user_id', 'count'))\n",
    "    .reset_index()\n",
    ")\n",
    "\n",
    "number_AB_testing.head()"
   ]
  },
  {
   "cell_type": "code",
   "execution_count": 8,
   "id": "589d3571-e2cc-4fc3-9200-53b2ead4cfb7",
   "metadata": {},
   "outputs": [
    {
     "data": {
      "text/html": [
       "<div>\n",
       "<style scoped>\n",
       "    .dataframe tbody tr th:only-of-type {\n",
       "        vertical-align: middle;\n",
       "    }\n",
       "\n",
       "    .dataframe tbody tr th {\n",
       "        vertical-align: top;\n",
       "    }\n",
       "\n",
       "    .dataframe thead th {\n",
       "        text-align: right;\n",
       "    }\n",
       "</style>\n",
       "<table border=\"1\" class=\"dataframe\">\n",
       "  <thead>\n",
       "    <tr style=\"text-align: right;\">\n",
       "      <th></th>\n",
       "      <th>test_group</th>\n",
       "      <th>users</th>\n",
       "      <th>percent</th>\n",
       "    </tr>\n",
       "  </thead>\n",
       "  <tbody>\n",
       "    <tr>\n",
       "      <th>0</th>\n",
       "      <td>a</td>\n",
       "      <td>10013</td>\n",
       "      <td>50.070007</td>\n",
       "    </tr>\n",
       "    <tr>\n",
       "      <th>1</th>\n",
       "      <td>b</td>\n",
       "      <td>9985</td>\n",
       "      <td>49.929993</td>\n",
       "    </tr>\n",
       "  </tbody>\n",
       "</table>\n",
       "</div>"
      ],
      "text/plain": [
       "  test_group  users    percent\n",
       "0          a  10013  50.070007\n",
       "1          b   9985  49.929993"
      ]
     },
     "execution_count": 8,
     "metadata": {},
     "output_type": "execute_result"
    }
   ],
   "source": [
    "group_count = df_AB_testing['test_group'].value_counts()  \n",
    "group_percent = df_AB_testing['test_group'].value_counts(normalize=True) * 100\n",
    "\n",
    "df_group = pd.DataFrame({\n",
    "    'test_group': group_count.index,\n",
    "    'users': group_count.values,\n",
    "    'percent': group_percent.values\n",
    "})\n",
    "\n",
    "df_group                                              # The distribution of test groups (A/B) is determined as normal (almost 50/50)"
   ]
  },
  {
   "cell_type": "markdown",
   "id": "555381d5-85ad-4f8f-a060-09f36ffc7098",
   "metadata": {},
   "source": [
    "#### 2. Number of conversions in groups A and B respectively"
   ]
  },
  {
   "cell_type": "code",
   "execution_count": 9,
   "id": "71fe1776-08dd-4e51-b33a-37e71b4dbf5a",
   "metadata": {},
   "outputs": [
    {
     "data": {
      "text/html": [
       "<div>\n",
       "<style scoped>\n",
       "    .dataframe tbody tr th:only-of-type {\n",
       "        vertical-align: middle;\n",
       "    }\n",
       "\n",
       "    .dataframe tbody tr th {\n",
       "        vertical-align: top;\n",
       "    }\n",
       "\n",
       "    .dataframe thead th {\n",
       "        text-align: right;\n",
       "    }\n",
       "</style>\n",
       "<table border=\"1\" class=\"dataframe\">\n",
       "  <thead>\n",
       "    <tr style=\"text-align: right;\">\n",
       "      <th></th>\n",
       "      <th>test_group</th>\n",
       "      <th>total_conversion</th>\n",
       "    </tr>\n",
       "  </thead>\n",
       "  <tbody>\n",
       "    <tr>\n",
       "      <th>0</th>\n",
       "      <td>a</td>\n",
       "      <td>611</td>\n",
       "    </tr>\n",
       "    <tr>\n",
       "      <th>1</th>\n",
       "      <td>b</td>\n",
       "      <td>889</td>\n",
       "    </tr>\n",
       "  </tbody>\n",
       "</table>\n",
       "</div>"
      ],
      "text/plain": [
       "  test_group  total_conversion\n",
       "0          a               611\n",
       "1          b               889"
      ]
     },
     "execution_count": 9,
     "metadata": {},
     "output_type": "execute_result"
    }
   ],
   "source": [
    "result_AB_testing = (                    #Pre-grouping test_group to determine the number of conversions in groups A and B, respectively\n",
    "    df_AB_testing\n",
    "    .groupby([\"test_group\"])\n",
    "    .agg(total_conversion=('conversion', 'sum'))\n",
    "    .reset_index()\n",
    ")\n",
    "\n",
    "result_AB_testing.head()"
   ]
  },
  {
   "cell_type": "markdown",
   "id": "553a2ca8-779c-4c67-9fda-734614da66ab",
   "metadata": {},
   "source": [
    "#### 3. Determining the conversion rate in groups A and B respectively"
   ]
  },
  {
   "cell_type": "code",
   "execution_count": 10,
   "id": "4afd5993-376f-4ed4-8fb9-f4367c8870bd",
   "metadata": {},
   "outputs": [
    {
     "data": {
      "text/html": [
       "<div>\n",
       "<style scoped>\n",
       "    .dataframe tbody tr th:only-of-type {\n",
       "        vertical-align: middle;\n",
       "    }\n",
       "\n",
       "    .dataframe tbody tr th {\n",
       "        vertical-align: top;\n",
       "    }\n",
       "\n",
       "    .dataframe thead th {\n",
       "        text-align: right;\n",
       "    }\n",
       "</style>\n",
       "<table border=\"1\" class=\"dataframe\">\n",
       "  <thead>\n",
       "    <tr style=\"text-align: right;\">\n",
       "      <th></th>\n",
       "      <th>test_group</th>\n",
       "      <th>number_user_id</th>\n",
       "      <th>total_conversion</th>\n",
       "      <th>CR</th>\n",
       "    </tr>\n",
       "  </thead>\n",
       "  <tbody>\n",
       "    <tr>\n",
       "      <th>0</th>\n",
       "      <td>a</td>\n",
       "      <td>10013</td>\n",
       "      <td>611</td>\n",
       "      <td>6.102067</td>\n",
       "    </tr>\n",
       "    <tr>\n",
       "      <th>1</th>\n",
       "      <td>b</td>\n",
       "      <td>9985</td>\n",
       "      <td>889</td>\n",
       "      <td>8.903355</td>\n",
       "    </tr>\n",
       "  </tbody>\n",
       "</table>\n",
       "</div>"
      ],
      "text/plain": [
       "  test_group  number_user_id  total_conversion        CR\n",
       "0          a           10013               611  6.102067\n",
       "1          b            9985               889  8.903355"
      ]
     },
     "execution_count": 10,
     "metadata": {},
     "output_type": "execute_result"
    }
   ],
   "source": [
    "CR_AB_testing = (                    # Taking into account previous groupings test_group and determining the conversion rate (CR) in groups A and B, respectively\n",
    "    df_AB_testing\n",
    "    .groupby([\"test_group\"], as_index=False)\n",
    "    .agg(number_user_id=('user_id', 'count'),\n",
    "        total_conversion=('conversion', 'sum') \n",
    "        )   \n",
    "    )\n",
    "# Now we add a column with CR (Conversion Rate)\n",
    "CR_AB_testing[\"CR\"] = CR_AB_testing[\"total_conversion\"] / CR_AB_testing[\"number_user_id\"] * 100\n",
    "CR_AB_testing.head()"
   ]
  },
  {
   "cell_type": "markdown",
   "id": "94b5eea0-aa97-451c-8552-43f4c7e2e98f",
   "metadata": {},
   "source": [
    "#### 4. Defining the start and end dates of the test, as well as the duration of the test in days"
   ]
  },
  {
   "cell_type": "code",
   "execution_count": 11,
   "id": "31ce2403-0a67-4042-83c7-401560e51b6b",
   "metadata": {},
   "outputs": [],
   "source": [
    "df_AB_testing['timestamp'] = pd.to_datetime(df_AB_testing['timestamp'])  # Converting date data_type from 'object' type directly to 'timestamp'"
   ]
  },
  {
   "cell_type": "code",
   "execution_count": 12,
   "id": "4e854928-08d5-4e61-9e32-c75733eecd5f",
   "metadata": {},
   "outputs": [
    {
     "name": "stdout",
     "output_type": "stream",
     "text": [
      "Test start date: 2023-07-03\n",
      "Test completion date: 2023-07-25\n",
      "Test duration: 21 days\n"
     ]
    }
   ],
   "source": [
    "# Find the start date and end date of the test\n",
    "start_date = df_AB_testing['timestamp'].min()\n",
    "end_date = df_AB_testing['timestamp'].max()\n",
    "\n",
    "#Calculate the test duration in days\n",
    "test_duration = (end_date - start_date).days\n",
    "\n",
    "print(f\"Test start date: {start_date.date()}\")\n",
    "print(f\"Test completion date: {end_date.date()}\")\n",
    "print(f\"Test duration: {test_duration} days\")"
   ]
  },
  {
   "cell_type": "markdown",
   "id": "7cbf7ffe-ab69-46f6-8e9c-d483928689ff",
   "metadata": {},
   "source": [
    "### II. We choose a statistical criterion for hypothesis testing and calculate the statistical value and p-value."
   ]
  },
  {
   "cell_type": "code",
   "execution_count": 13,
   "id": "3e555339-46b5-4900-997e-18091f127278",
   "metadata": {},
   "outputs": [
    {
     "data": {
      "text/html": [
       "<div>\n",
       "<style scoped>\n",
       "    .dataframe tbody tr th:only-of-type {\n",
       "        vertical-align: middle;\n",
       "    }\n",
       "\n",
       "    .dataframe tbody tr th {\n",
       "        vertical-align: top;\n",
       "    }\n",
       "\n",
       "    .dataframe thead th {\n",
       "        text-align: right;\n",
       "    }\n",
       "</style>\n",
       "<table border=\"1\" class=\"dataframe\">\n",
       "  <thead>\n",
       "    <tr style=\"text-align: right;\">\n",
       "      <th></th>\n",
       "      <th>count</th>\n",
       "      <th>mean</th>\n",
       "      <th>std</th>\n",
       "      <th>min</th>\n",
       "      <th>25%</th>\n",
       "      <th>50%</th>\n",
       "      <th>75%</th>\n",
       "      <th>max</th>\n",
       "    </tr>\n",
       "    <tr>\n",
       "      <th>test_group</th>\n",
       "      <th></th>\n",
       "      <th></th>\n",
       "      <th></th>\n",
       "      <th></th>\n",
       "      <th></th>\n",
       "      <th></th>\n",
       "      <th></th>\n",
       "      <th></th>\n",
       "    </tr>\n",
       "  </thead>\n",
       "  <tbody>\n",
       "    <tr>\n",
       "      <th>a</th>\n",
       "      <td>10013.0</td>\n",
       "      <td>0.061021</td>\n",
       "      <td>0.239380</td>\n",
       "      <td>0.0</td>\n",
       "      <td>0.0</td>\n",
       "      <td>0.0</td>\n",
       "      <td>0.0</td>\n",
       "      <td>1.0</td>\n",
       "    </tr>\n",
       "    <tr>\n",
       "      <th>b</th>\n",
       "      <td>9985.0</td>\n",
       "      <td>0.089034</td>\n",
       "      <td>0.284806</td>\n",
       "      <td>0.0</td>\n",
       "      <td>0.0</td>\n",
       "      <td>0.0</td>\n",
       "      <td>0.0</td>\n",
       "      <td>1.0</td>\n",
       "    </tr>\n",
       "  </tbody>\n",
       "</table>\n",
       "</div>"
      ],
      "text/plain": [
       "              count      mean       std  min  25%  50%  75%  max\n",
       "test_group                                                      \n",
       "a           10013.0  0.061021  0.239380  0.0  0.0  0.0  0.0  1.0\n",
       "b            9985.0  0.089034  0.284806  0.0  0.0  0.0  0.0  1.0"
      ]
     },
     "execution_count": 13,
     "metadata": {},
     "output_type": "execute_result"
    }
   ],
   "source": [
    " # Checking statistics by group\n",
    "df_AB_testing.groupby('test_group')['conversion'].describe()"
   ]
  },
  {
   "cell_type": "code",
   "execution_count": 14,
   "id": "9004282a-d352-4895-be5e-487d4a3e7f1b",
   "metadata": {},
   "outputs": [
    {
     "name": "stdout",
     "output_type": "stream",
     "text": [
      "t-statistic: -7.53, p-value: 0.0\n",
      "The difference is statistically significant, Null Hypothesis is rejected.\n"
     ]
    }
   ],
   "source": [
    "# Since in point 1 the distribution of test groups (A/B) is defined as normal, we use the Student's t-test to test hypotheses:\n",
    "from scipy import stats\n",
    "\n",
    "alpha = 0.05\n",
    "\n",
    "statistic, pvalue = stats.ttest_ind(df_AB_testing[df_AB_testing['test_group'] == 'a']['conversion'],\n",
    "                                    df_AB_testing[df_AB_testing['test_group'] == 'b']['conversion'], \n",
    "                                    alternative='less')\n",
    "\n",
    "print(f't-statistic: {round(statistic, 2)}, p-value: {round(pvalue, 2)}')\n",
    "\n",
    "if pvalue < alpha:\n",
    "    print('The difference is statistically significant, Null Hypothesis is rejected.')\n",
    "else:\n",
    "    print('The difference is insignificant, Null Hypothesis cannot rejected.')"
   ]
  },
  {
   "cell_type": "code",
   "execution_count": 15,
   "id": "cb472f7d-b45d-43c7-b099-b06f8d39eae6",
   "metadata": {},
   "outputs": [
    {
     "name": "stdout",
     "output_type": "stream",
     "text": [
      "statistic: -7.5299531387344185, p-value: 0.00019998000199980003\n",
      "The difference is statistically significant, Null Hypothesis is rejected.\n"
     ]
    }
   ],
   "source": [
    "def statistic(a, b):\n",
    "    return stats.ttest_ind(a, b).statistic          # We check the statistical significance of the obtained results using permutation tests in SciPy\n",
    "\n",
    "alpha = 0.05\n",
    "    \n",
    "a = df_AB_testing[df_AB_testing['test_group'] == 'a']['conversion']\n",
    "b = df_AB_testing[df_AB_testing['test_group'] == 'b']['conversion'] \n",
    "\n",
    "result = stats.permutation_test((a, b), statistic, n_resamples=10000)\n",
    "\n",
    "print(f'statistic: {result.statistic}, p-value: {result.pvalue}')\n",
    "\n",
    "if result.pvalue < alpha:\n",
    "    print('The difference is statistically significant, Null Hypothesis is rejected.')\n",
    "else:\n",
    "    print('The difference is insignificant, Null Hypothesis cannot rejected.')"
   ]
  },
  {
   "cell_type": "markdown",
   "id": "084a5a45-f768-407f-b543-b5d02a571945",
   "metadata": {},
   "source": [
    "#### Conclusion:\n",
    "###### Null hypothesis (H₀): There is no difference in conversion between groups A and B (p-value: 0.00).\n",
    "##### Alternative hypothesis (H₁): Conversion in group B is higher than in group A (because alternative='less' - statistic: -7.529).\n",
    "That is, users who saw the \"50% off\" offer have a statistically higher conversion than those who were shown the $4.99 price without the discount.\n",
    "##### From a business point of view:\n",
    "- The \"50% off\" offer significantly increases the likelihood of purchasing a subscription.\n",
    "- The difference is not random (p-value ≈ 0), i.e. the result is reliable.\n",
    "- Thus, the test should be considered successful - option B demonstrates a more effective conversion of visitors into buyers."
   ]
  },
  {
   "cell_type": "markdown",
   "id": "a58fea77-4e50-4174-baa1-4e804cf79a43",
   "metadata": {},
   "source": [
    "### III. Visualization for comparing means in groups with 95% confidence intervals"
   ]
  },
  {
   "cell_type": "code",
   "execution_count": 16,
   "id": "5fc55bfc-d87f-47f3-aa66-b957084877cc",
   "metadata": {},
   "outputs": [
    {
     "data": {
      "image/png": "[encoded data removed]",
      "text/plain": [
       "<Figure size 800x600 with 1 Axes>"
      ]
     },
     "metadata": {},
     "output_type": "display_data"
    }
   ],
   "source": [
    "import matplotlib.pyplot as plt\n",
    "import seaborn as sns\n",
    "\n",
    "summary = (                                       # Aggregation of data for each group A and B\n",
    "    df_AB_testing\n",
    "    .groupby('test_group', as_index=False)\n",
    "    .agg(conversion=('conversion', 'mean'),\n",
    "         count=('user_id', 'count'))  \n",
    ")\n",
    "\n",
    "plt.figure(figsize=(8, 6))\n",
    "ax = sns.barplot(\n",
    "    data=summary,\n",
    "    x='test_group',\n",
    "    y='conversion',\n",
    "    hue='test_group',                          # add hue\n",
    "    errorbar=('ci', 95),                       # 95% confidence intervals\n",
    "    palette={'a': '#cea2fd', 'b': '#7e1e9c'},  # Setting custom colors for barplot\n",
    "    legend=False                               # we turn off the legend because it duplicates the X-axis labels\n",
    ")\n",
    "for i, row in summary.iterrows():\n",
    "    ax.text(i,                                              # position on X\n",
    "        row['conversion']/2,                                # insert signatures in the middle of the column\n",
    "        f\"{row['count']} users\\n({row['conversion']})\",     # signature format\n",
    "        ha='center', va='center',\n",
    "        color='white', fontsize=12, weight='bold'\n",
    "    )\n",
    "    \n",
    "plt.title('A/B Test Results', fontsize=14)\n",
    "plt.xlabel('Test_group', fontsize=12)\n",
    "plt.ylabel('Mean Conversion Rate', fontsize=12)\n",
    "plt.grid(axis='y', linestyle='--', alpha=0.6)\n",
    "plt.show()"
   ]
  },
  {
   "cell_type": "markdown",
   "id": "cde146ee-de6c-45ea-a0af-4c28debd6b14",
   "metadata": {},
   "source": [
    "#### Conversion dynamics over time (barplot by date):"
   ]
  },
  {
   "cell_type": "code",
   "execution_count": 17,
   "id": "f5c1fa0d-5936-47ef-9a0d-216e6ac42599",
   "metadata": {},
   "outputs": [
    {
     "data": {
      "image/png": "[encoded data removed]",
      "text/plain": [
       "<Figure size 1200x600 with 1 Axes>"
      ]
     },
     "metadata": {},
     "output_type": "display_data"
    }
   ],
   "source": [
    "# Let's create a new column with the date (without the time)\n",
    "df_AB_testing['date'] = df_AB_testing['timestamp'].dt.date\n",
    "\n",
    "# Replace group designations for correct display in the legend\n",
    "df_AB_testing['test_group'] = df_AB_testing['test_group'].replace({\n",
    "    'a': 'A (price $4.99)',\n",
    "    'b': 'B (50% discount)'\n",
    "})\n",
    "\n",
    "# We calculate daily conversion for each group\n",
    "conversion_by_date = (\n",
    "    df_AB_testing\n",
    "    .groupby(['date', 'test_group'])\n",
    "    .agg(conversion_rate=('conversion', 'mean'))\n",
    "    .reset_index()\n",
    ")\n",
    "# Graph construction\n",
    "plt.figure(figsize=(12, 6))\n",
    "sns.barplot(\n",
    "    data=conversion_by_date,\n",
    "    x='date',\n",
    "    y='conversion_rate',\n",
    "    hue='test_group',\n",
    "    palette={\n",
    "        'A (price $4.99)': '#cea2fd', \n",
    "        'B (50% discount)': '#7e1e9c'\n",
    "    },\n",
    "    edgecolor='black',\n",
    "    alpha=0.9\n",
    ")\n",
    "# Design\n",
    "plt.title('Daily Conversion Rate Over Time (A/B Test)', fontsize=14)\n",
    "plt.xlabel('Date', fontsize=12)\n",
    "plt.ylabel('Conversion Rate', fontsize=12)\n",
    "plt.xticks(rotation=45, ha='right')\n",
    "plt.grid(axis='y', alpha=0.3)\n",
    "plt.legend(title='Group', title_fontsize=12)\n",
    "plt.tight_layout()\n",
    "plt.show()"
   ]
  },
  {
   "cell_type": "markdown",
   "id": "6cf13ad1-af1d-4d96-aee3-5f574660504a",
   "metadata": {},
   "source": [
    "### Conclusions about the A/B test results:\n",
    "#### Context:\n",
    "The goal of the A/B test was to determine whether a 50% discount (group B) affects the conversion rate of users compared to the standard price of $4.99 (group A).\n",
    "The test was conducted for 21 days: from 2023-07-03 to 2023-07-25,\n",
    "the data contains the timestamp of each event (timestamp)\n",
    "and the fact of performing the target action (conversion = 1/0).\n",
    "##### Data validity check:\n",
    "- The data type by dates was converted to datetime format, which allowed tracking the change in conversion over time.\n",
    "- The average conversion level in groups A and B was calculated for each day.\n",
    "- The visualization showed stable user activity throughout the testing period without significant gaps in the data."
   ]
  },
  {
   "cell_type": "markdown",
   "id": "43bf77a8-807e-4648-bcf0-6b759fb001ab",
   "metadata": {},
   "source": [
    "#### Statistical analysis\n",
    "To test the hypothesis, we used a Student's t-test for independent samples with the alternative 'less' (i.e., the hypothesis that the conversion of group A < the conversion of group B):\n",
    "###### Test results: t-statistic = −7.53; p-value ≈ 0.0\n",
    "###### Interpretation: Since the p-value < 0.05 (α = 0.05), we reject the null hypothesis.\n",
    "This means that the difference between the average conversion rates is statistically significant - users in group B (with a 50% discount) made purchases significantly more often than users in group A (regular price $4.99).\n",
    "#### Visualization of results:\n",
    "###### 1. Comparison of average conversion by groups (barplot):\n",
    "Group A has a lower average conversion (6.102%),\n",
    "while B (purple, demonstrates a significantly higher conversion rate (8.903%).\n",
    "###### 2. Conversion dynamics over time (barplot by date):\n",
    "- Conversion in group B remained higher almost throughout the entire test period.\n",
    "- On some days (07/25/2023), there is an increase in the gap between the groups, which confirms the stability of the discount effect.\n",
    "- Both curves do not intersect, which visually confirms the statistical conclusion."
   ]
  },
  {
   "cell_type": "markdown",
   "id": "e93b39a1-25d2-4b6f-a1da-f8f8df763b08",
   "metadata": {},
   "source": [
    "### Key findings:\n",
    "| Metric          | Group A ($4.99)            | Group B (50% discount)                 |\n",
    "| --------------- | -------------------------- | -------------------------------------- |\n",
    "| Users           | 10,013                     | 9,985                                  |\n",
    "| Conversions     | 611                        | 889                                    |\n",
    "| Conversion Rate | **6.1%**                   | **8.9%**                               |\n",
    "| t-statistic     | −7.53                      |                                        |\n",
    "| p-value         | 0.00                       |                                        |\n",
    "| Result          | ❌ Null hypothesis rejected | ✅ Statistically significant difference |\n"
   ]
  },
  {
   "cell_type": "markdown",
   "id": "548890cd-4ac5-4fac-adfa-f76d3113d2cb",
   "metadata": {},
   "source": [
    "#### Conclusion:\n",
    "The introduction of a 50% discount led to a significant increase in conversions.\n",
    "The effect is statistically significant and stable over time.\n",
    "#### Recommendations:\n",
    "- Decide to implement the discount model (group B) as the main pricing policy for this user segment.\n",
    "- Conduct additional profitability analysis: although conversion has increased, it is important to check whether the increase in the number of purchases compensates for the loss of revenue due to the reduced price.\n",
    "- If necessary, test smaller discounts (for example, 30% or 20%) to find the optimal balance between sales volume and margin."
   ]
  },
  {
   "cell_type": "code",
   "execution_count": null,
   "id": "9db8ed5a-66e1-42e6-87dd-558927ee7dbf",
   "metadata": {},
   "outputs": [],
   "source": []
  }
 ],
 "metadata": {
  "kernelspec": {
   "display_name": "Python 3 (ipykernel)",
   "language": "python",
   "name": "python3"
  },
  "language_info": {
   "codemirror_mode": {
    "name": "ipython",
    "version": 3
   },
   "file_extension": ".py",
   "mimetype": "text/x-python",
   "name": "python",
   "nbconvert_exporter": "python",
   "pygments_lexer": "ipython3",
   "version": "3.13.5"
  }
 },
 "nbformat": 4,
 "nbformat_minor": 5
}
