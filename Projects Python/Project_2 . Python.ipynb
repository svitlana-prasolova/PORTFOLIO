{
 "cells": [
  {
   "cell_type": "markdown",
   "id": "8f129da4-3c50-4956-8300-e859b5877436",
   "metadata": {},
   "source": [
    "#  Applications Rating Analysis\n",
    "**Data cleaning, merging, and applicant rating calculation using Python and Pandas**"
   ]
  },
  {
   "cell_type": "markdown",
   "id": "af679c56-97e1-49dd-aa2e-a9c74a88f4d8",
   "metadata": {},
   "source": [
    "### Author: Svitlana Prasolova"
   ]
  },
  {
   "cell_type": "markdown",
   "id": "5880a6a3-b734-42b2-925a-cbe70e1f9a00",
   "metadata": {},
   "source": [
    "# Project Description\n",
    "This project focuses on analyzing application data from two CSV files — `applications.csv` and `industries.csv`.  \n",
    "The goal is to **clean and enrich the data, calculate individual application ratings, and determine the average\n",
    "weekly rating of accepted applications**."
   ]
  },
  {
   "cell_type": "markdown",
   "id": "b01555a9-5d9c-444a-ba97-666dfde432f4",
   "metadata": {},
   "source": [
    "## Project Task:\n",
    "Develop a Python-based data analysis workflow to calculate and visualize application ratings.\n",
    "- The project involves cleaning and merging datasets, \n",
    "- applying rating rules to each applicant,\n",
    "- filtering accepted applications,\n",
    "- and analyzing average weekly ratings"
   ]
  },
  {
   "cell_type": "markdown",
   "id": "37eeeeb9-ac31-4bb9-8daa-72ddd1ce0942",
   "metadata": {},
   "source": [
    "## Results\n",
    "- Cleaned and enriched applicant data.\n",
    "- Automated the rating calculation logic based on multiple business rules.\n",
    "- Calculated average weekly ratings for accepted applications."
   ]
  },
  {
   "cell_type": "markdown",
   "id": "a5a35e6e-c24e-4a47-b331-423c0b1ec803",
   "metadata": {},
   "source": [
    "# Process\n",
    "### Preparing work environment\n",
    "I will be using Python for the data transformation and research. The following libraries are installed:"
   ]
  },
  {
   "cell_type": "code",
   "execution_count": 1,
   "id": "86db3008-d024-4d69-a6d6-0d321da4b557",
   "metadata": {},
   "outputs": [
    {
     "data": {
      "text/html": [
       "<div>\n",
       "<style scoped>\n",
       "    .dataframe tbody tr th:only-of-type {\n",
       "        vertical-align: middle;\n",
       "    }\n",
       "\n",
       "    .dataframe tbody tr th {\n",
       "        vertical-align: top;\n",
       "    }\n",
       "\n",
       "    .dataframe thead th {\n",
       "        text-align: right;\n",
       "    }\n",
       "</style>\n",
       "<table border=\"1\" class=\"dataframe\">\n",
       "  <thead>\n",
       "    <tr style=\"text-align: right;\">\n",
       "      <th></th>\n",
       "      <th>Applied at</th>\n",
       "      <th>Amount</th>\n",
       "      <th>Age</th>\n",
       "      <th>Gender</th>\n",
       "      <th>Industry</th>\n",
       "      <th>Marital status</th>\n",
       "      <th>External Rating</th>\n",
       "      <th>Education level</th>\n",
       "      <th>Location</th>\n",
       "      <th>applicant_id</th>\n",
       "    </tr>\n",
       "  </thead>\n",
       "  <tbody>\n",
       "    <tr>\n",
       "      <th>0</th>\n",
       "      <td>11.30.2022 10:26:37</td>\n",
       "      <td>12000.0</td>\n",
       "      <td>29</td>\n",
       "      <td>Чоловік</td>\n",
       "      <td>Blockchain</td>\n",
       "      <td>Other</td>\n",
       "      <td>8.0</td>\n",
       "      <td>Вища (бакалавр, спеціаліст, магістр)</td>\n",
       "      <td>Івано-Франківськ чи область</td>\n",
       "      <td>99e7b0dc6cc05dd334d8f38dc26ce9b3</td>\n",
       "    </tr>\n",
       "    <tr>\n",
       "      <th>1</th>\n",
       "      <td>11.30.2022 10:26:39</td>\n",
       "      <td>NaN</td>\n",
       "      <td>36</td>\n",
       "      <td>Чоловік</td>\n",
       "      <td>Public services / Government</td>\n",
       "      <td>Single</td>\n",
       "      <td>3.0</td>\n",
       "      <td>Вища (бакалавр, спеціаліст, магістр)</td>\n",
       "      <td>NaN</td>\n",
       "      <td>63dfcf8e6904186650d6814279fbe42f</td>\n",
       "    </tr>\n",
       "    <tr>\n",
       "      <th>2</th>\n",
       "      <td>11.30.2022 10:26:58</td>\n",
       "      <td>7500.0</td>\n",
       "      <td>34</td>\n",
       "      <td>Чоловік</td>\n",
       "      <td>Adtech / Advertising</td>\n",
       "      <td>Single</td>\n",
       "      <td>4.0</td>\n",
       "      <td>Вища (бакалавр, спеціаліст, магістр)</td>\n",
       "      <td>Київ чи область</td>\n",
       "      <td>10dbafaeb46c09e96b6987c03bbb3498</td>\n",
       "    </tr>\n",
       "    <tr>\n",
       "      <th>3</th>\n",
       "      <td>11.30.2022 10:27:31</td>\n",
       "      <td>1500.0</td>\n",
       "      <td>23</td>\n",
       "      <td>Жінка</td>\n",
       "      <td>Telecom</td>\n",
       "      <td>Single</td>\n",
       "      <td>0.0</td>\n",
       "      <td>Вища (бакалавр, спеціаліст, магістр)</td>\n",
       "      <td>Львів чи область</td>\n",
       "      <td>5847ac62cc9eac5e323c2517dcc91ad1</td>\n",
       "    </tr>\n",
       "    <tr>\n",
       "      <th>4</th>\n",
       "      <td>11.30.2022 10:27:34</td>\n",
       "      <td>8400.0</td>\n",
       "      <td>33</td>\n",
       "      <td>Жінка</td>\n",
       "      <td>Automotive</td>\n",
       "      <td>Single</td>\n",
       "      <td>6.0</td>\n",
       "      <td>Вища (бакалавр, спеціаліст, магістр)</td>\n",
       "      <td>Житомир чи область</td>\n",
       "      <td>5d21f3795b50de8e8f8f8d5f48b754f3</td>\n",
       "    </tr>\n",
       "  </tbody>\n",
       "</table>\n",
       "</div>"
      ],
      "text/plain": [
       "            Applied at   Amount  Age   Gender                      Industry  \\\n",
       "0  11.30.2022 10:26:37  12000.0   29  Чоловік                    Blockchain   \n",
       "1  11.30.2022 10:26:39      NaN   36  Чоловік  Public services / Government   \n",
       "2  11.30.2022 10:26:58   7500.0   34  Чоловік          Adtech / Advertising   \n",
       "3  11.30.2022 10:27:31   1500.0   23    Жінка                       Telecom   \n",
       "4  11.30.2022 10:27:34   8400.0   33    Жінка                    Automotive   \n",
       "\n",
       "  Marital status  External Rating                       Education level  \\\n",
       "0          Other              8.0  Вища (бакалавр, спеціаліст, магістр)   \n",
       "1         Single              3.0  Вища (бакалавр, спеціаліст, магістр)   \n",
       "2         Single              4.0  Вища (бакалавр, спеціаліст, магістр)   \n",
       "3         Single              0.0  Вища (бакалавр, спеціаліст, магістр)   \n",
       "4         Single              6.0  Вища (бакалавр, спеціаліст, магістр)   \n",
       "\n",
       "                      Location                      applicant_id  \n",
       "0  Івано-Франківськ чи область  99e7b0dc6cc05dd334d8f38dc26ce9b3  \n",
       "1                          NaN  63dfcf8e6904186650d6814279fbe42f  \n",
       "2              Київ чи область  10dbafaeb46c09e96b6987c03bbb3498  \n",
       "3             Львів чи область  5847ac62cc9eac5e323c2517dcc91ad1  \n",
       "4           Житомир чи область  5d21f3795b50de8e8f8f8d5f48b754f3  "
      ]
     },
     "execution_count": 1,
     "metadata": {},
     "output_type": "execute_result"
    }
   ],
   "source": [
    "import pandas as pd\n",
    "import numpy as np\n",
    "\n",
    "df_applicant = pd.read_csv(r\"C:\\Users\\Світлана\\Downloads\\applications(2.0).csv\")\n",
    "df_camp = pd.read_csv(r\"C:\\Users\\Світлана\\Downloads\\industries(2.0).csv\")\n",
    "\n",
    "df_applicant.head()                                   # Verifying the data (1)"
   ]
  },
  {
   "cell_type": "markdown",
   "id": "36cbf34e-bb7a-4fd2-962b-6bcdf3ee29c5",
   "metadata": {},
   "source": [
    "#### 1. Preparing data for analysis (removing duplicates and filling in empty NaN values)"
   ]
  },
  {
   "cell_type": "code",
   "execution_count": 3,
   "id": "fd86f2c1-07fc-4f57-80fe-1bfc83e987ec",
   "metadata": {},
   "outputs": [
    {
     "name": "stdout",
     "output_type": "stream",
     "text": [
      "13315\n",
      "13278\n"
     ]
    }
   ],
   "source": [
    "print(df_applicant['applicant_id'].count())         # determining the presence of duplicates\n",
    "print(df_applicant['applicant_id'].nunique())"
   ]
  },
  {
   "cell_type": "code",
   "execution_count": 4,
   "id": "4ca3ca45-ef67-4df6-87b4-f4d8b4a7b86e",
   "metadata": {},
   "outputs": [],
   "source": [
    "df_applicant = df_applicant.drop_duplicates(subset='applicant_id', keep='last')   # removing duplicates"
   ]
  },
  {
   "cell_type": "code",
   "execution_count": 5,
   "id": "d93fa08d-23b8-4852-91a1-67c187fa73bd",
   "metadata": {},
   "outputs": [
    {
     "name": "stdout",
     "output_type": "stream",
     "text": [
      "13278\n",
      "13278\n"
     ]
    }
   ],
   "source": [
    "print(df_applicant['applicant_id'].count())         # verification\n",
    "print(df_applicant['applicant_id'].nunique())"
   ]
  },
  {
   "cell_type": "code",
   "execution_count": 6,
   "id": "800c3c16-7c54-416c-a369-540a0ce1daf4",
   "metadata": {},
   "outputs": [
    {
     "data": {
      "text/plain": [
       "Applied at            0\n",
       "Amount               33\n",
       "Age                   0\n",
       "Gender                0\n",
       "Industry              0\n",
       "Marital status        0\n",
       "External Rating      72\n",
       "Education level      33\n",
       "Location           1773\n",
       "applicant_id          0\n",
       "dtype: int64"
      ]
     },
     "execution_count": 6,
     "metadata": {},
     "output_type": "execute_result"
    }
   ],
   "source": [
    "df_applicant.isnull().sum()                          # Determining the number of missing values"
   ]
  },
  {
   "cell_type": "code",
   "execution_count": 7,
   "id": "98ed33d7-5665-405d-abc4-c93c87ca1123",
   "metadata": {},
   "outputs": [],
   "source": [
    "df_applicant[\"External Rating\"] = df_applicant[\"External Rating\"].fillna(0)         # In the External Rating column, replace empty values with zeros"
   ]
  },
  {
   "cell_type": "code",
   "execution_count": 8,
   "id": "2bec4596-22d5-4816-976d-8baeb1cfdac3",
   "metadata": {},
   "outputs": [],
   "source": [
    "df_applicant[\"Education level\"] = df_applicant[\"Education level\"].fillna(\"Середня\") # In the Education level column, replace empty values with \"Average\""
   ]
  },
  {
   "cell_type": "code",
   "execution_count": 9,
   "id": "461b8637-91cd-40ae-a10c-f7e2f597558c",
   "metadata": {},
   "outputs": [
    {
     "data": {
      "text/plain": [
       "Applied at            0\n",
       "Amount               33\n",
       "Age                   0\n",
       "Gender                0\n",
       "Industry              0\n",
       "Marital status        0\n",
       "External Rating       0\n",
       "Education level       0\n",
       "Location           1773\n",
       "applicant_id          0\n",
       "dtype: int64"
      ]
     },
     "execution_count": 9,
     "metadata": {},
     "output_type": "execute_result"
    }
   ],
   "source": [
    "df_applicant.isnull().sum()                                                 # verification"
   ]
  },
  {
   "cell_type": "markdown",
   "id": "9a83a159-8da9-42e3-8db3-65fdac6c5903",
   "metadata": {},
   "source": [
    "#### 2. Add data from the industries.csv file, namely industry ratings (Score), to the DataFrame df_applicant"
   ]
  },
  {
   "cell_type": "code",
   "execution_count": 10,
   "id": "479e4dee-de2a-4653-bf5e-39610258c418",
   "metadata": {},
   "outputs": [
    {
     "data": {
      "text/html": [
       "<div>\n",
       "<style scoped>\n",
       "    .dataframe tbody tr th:only-of-type {\n",
       "        vertical-align: middle;\n",
       "    }\n",
       "\n",
       "    .dataframe tbody tr th {\n",
       "        vertical-align: top;\n",
       "    }\n",
       "\n",
       "    .dataframe thead th {\n",
       "        text-align: right;\n",
       "    }\n",
       "</style>\n",
       "<table border=\"1\" class=\"dataframe\">\n",
       "  <thead>\n",
       "    <tr style=\"text-align: right;\">\n",
       "      <th></th>\n",
       "      <th>Applied at</th>\n",
       "      <th>Amount</th>\n",
       "      <th>Age</th>\n",
       "      <th>Gender</th>\n",
       "      <th>Industry</th>\n",
       "      <th>Marital status</th>\n",
       "      <th>External Rating</th>\n",
       "      <th>Education level</th>\n",
       "      <th>Location</th>\n",
       "      <th>applicant_id</th>\n",
       "      <th>Score</th>\n",
       "    </tr>\n",
       "  </thead>\n",
       "  <tbody>\n",
       "    <tr>\n",
       "      <th>0</th>\n",
       "      <td>11.30.2022 10:26:39</td>\n",
       "      <td>NaN</td>\n",
       "      <td>36</td>\n",
       "      <td>Чоловік</td>\n",
       "      <td>Public services / Government</td>\n",
       "      <td>Single</td>\n",
       "      <td>3.0</td>\n",
       "      <td>Вища (бакалавр, спеціаліст, магістр)</td>\n",
       "      <td>NaN</td>\n",
       "      <td>63dfcf8e6904186650d6814279fbe42f</td>\n",
       "      <td>20</td>\n",
       "    </tr>\n",
       "    <tr>\n",
       "      <th>1</th>\n",
       "      <td>11.30.2022 10:26:58</td>\n",
       "      <td>7500.0</td>\n",
       "      <td>34</td>\n",
       "      <td>Чоловік</td>\n",
       "      <td>Adtech / Advertising</td>\n",
       "      <td>Single</td>\n",
       "      <td>4.0</td>\n",
       "      <td>Вища (бакалавр, спеціаліст, магістр)</td>\n",
       "      <td>Київ чи область</td>\n",
       "      <td>10dbafaeb46c09e96b6987c03bbb3498</td>\n",
       "      <td>10</td>\n",
       "    </tr>\n",
       "    <tr>\n",
       "      <th>2</th>\n",
       "      <td>11.30.2022 10:27:31</td>\n",
       "      <td>1500.0</td>\n",
       "      <td>23</td>\n",
       "      <td>Жінка</td>\n",
       "      <td>Telecom</td>\n",
       "      <td>Single</td>\n",
       "      <td>0.0</td>\n",
       "      <td>Вища (бакалавр, спеціаліст, магістр)</td>\n",
       "      <td>Львів чи область</td>\n",
       "      <td>5847ac62cc9eac5e323c2517dcc91ad1</td>\n",
       "      <td>15</td>\n",
       "    </tr>\n",
       "    <tr>\n",
       "      <th>3</th>\n",
       "      <td>11.30.2022 10:27:34</td>\n",
       "      <td>8400.0</td>\n",
       "      <td>33</td>\n",
       "      <td>Жінка</td>\n",
       "      <td>Automotive</td>\n",
       "      <td>Single</td>\n",
       "      <td>6.0</td>\n",
       "      <td>Вища (бакалавр, спеціаліст, магістр)</td>\n",
       "      <td>Житомир чи область</td>\n",
       "      <td>5d21f3795b50de8e8f8f8d5f48b754f3</td>\n",
       "      <td>15</td>\n",
       "    </tr>\n",
       "    <tr>\n",
       "      <th>4</th>\n",
       "      <td>11.30.2022 10:27:38</td>\n",
       "      <td>16500.0</td>\n",
       "      <td>31</td>\n",
       "      <td>Чоловік</td>\n",
       "      <td>E-commerce</td>\n",
       "      <td>Single</td>\n",
       "      <td>8.0</td>\n",
       "      <td>Вища (бакалавр, спеціаліст, магістр)</td>\n",
       "      <td>Київ чи область</td>\n",
       "      <td>f720bf9c5c4c3e10a8568c1699847696</td>\n",
       "      <td>15</td>\n",
       "    </tr>\n",
       "  </tbody>\n",
       "</table>\n",
       "</div>"
      ],
      "text/plain": [
       "            Applied at   Amount  Age   Gender                      Industry  \\\n",
       "0  11.30.2022 10:26:39      NaN   36  Чоловік  Public services / Government   \n",
       "1  11.30.2022 10:26:58   7500.0   34  Чоловік          Adtech / Advertising   \n",
       "2  11.30.2022 10:27:31   1500.0   23    Жінка                       Telecom   \n",
       "3  11.30.2022 10:27:34   8400.0   33    Жінка                    Automotive   \n",
       "4  11.30.2022 10:27:38  16500.0   31  Чоловік                    E-commerce   \n",
       "\n",
       "  Marital status  External Rating                       Education level  \\\n",
       "0         Single              3.0  Вища (бакалавр, спеціаліст, магістр)   \n",
       "1         Single              4.0  Вища (бакалавр, спеціаліст, магістр)   \n",
       "2         Single              0.0  Вища (бакалавр, спеціаліст, магістр)   \n",
       "3         Single              6.0  Вища (бакалавр, спеціаліст, магістр)   \n",
       "4         Single              8.0  Вища (бакалавр, спеціаліст, магістр)   \n",
       "\n",
       "             Location                      applicant_id  Score  \n",
       "0                 NaN  63dfcf8e6904186650d6814279fbe42f     20  \n",
       "1     Київ чи область  10dbafaeb46c09e96b6987c03bbb3498     10  \n",
       "2    Львів чи область  5847ac62cc9eac5e323c2517dcc91ad1     15  \n",
       "3  Житомир чи область  5d21f3795b50de8e8f8f8d5f48b754f3     15  \n",
       "4     Київ чи область  f720bf9c5c4c3e10a8568c1699847696     15  "
      ]
     },
     "execution_count": 10,
     "metadata": {},
     "output_type": "execute_result"
    }
   ],
   "source": [
    "df_merge = pd.merge(df_applicant, df_camp, on = 'Industry', how='left')\n",
    "df_merge.head()                                                # Verifying the data (2)"
   ]
  },
  {
   "cell_type": "markdown",
   "id": "111fe402-791f-4766-918f-aa41805d4dfd",
   "metadata": {},
   "source": [
    "#### 3. Calculate the rating of the application according to the specified conditions"
   ]
  },
  {
   "cell_type": "markdown",
   "id": "ae932584-1b35-4486-814b-896f379702da",
   "metadata": {},
   "source": [
    "1. If the applicant's age is between 35 and 55, 20 points are added to the rating\n",
    "2. If the application was submitted on a non-weekend, 20 points are added to the rating\n",
    "3. If the applicant is married, 20 points are added to the rating\n",
    "4. If the applicant is located in Kyiv or the region, 10 points are added to the rating\n",
    "5. The 'Score' value from the industries.csv table is also added to the application (and ranges from 0 to 20 points)\n",
    "6. If the 'External Rating' is greater than or equal to 7, 20 points are added to the rating\n",
    "7. If the 'External Rating' is less than or equal to 2, 20 points are subtracted from the rating"
   ]
  },
  {
   "cell_type": "code",
   "execution_count": 11,
   "id": "f902648f-b3e8-45a8-94f7-cb594e4ff0b0",
   "metadata": {},
   "outputs": [],
   "source": [
    "if_1 = ((df_merge.Age >=35) & (df_merge.Age <= 55)) * 20      # Taking into account the first rating condition"
   ]
  },
  {
   "cell_type": "code",
   "execution_count": 12,
   "id": "2b408c95-183d-4389-a1c0-57dcbdbff1d8",
   "metadata": {},
   "outputs": [
    {
     "data": {
      "text/plain": [
       "4964     12.05.2022 23:39\n",
       "7964     12.12.2022 11:41\n",
       "12656    01.03.2023 14:15\n",
       "Name: Applied at, dtype: object"
      ]
     },
     "execution_count": 12,
     "metadata": {},
     "output_type": "execute_result"
    }
   ],
   "source": [
    "df_merge['Applied at'].sample(3)"
   ]
  },
  {
   "cell_type": "code",
   "execution_count": 13,
   "id": "272cd55b-ae9e-454c-b399-28403d6fe7cc",
   "metadata": {},
   "outputs": [
    {
     "data": {
      "text/plain": [
       "2530    2022-12-01 11:08:00\n",
       "13073   2023-01-06 08:40:00\n",
       "3681    2022-12-03 15:58:00\n",
       "Name: Applied at, dtype: datetime64[ns]"
      ]
     },
     "execution_count": 13,
     "metadata": {},
     "output_type": "execute_result"
    }
   ],
   "source": [
    "df_merge['Applied at'] = pd.to_datetime(df_merge['Applied at'], format='mixed') #Converting the Applied at column to datetime format and checking the correctness of the date conversion \n",
    "df_merge['Applied at'].sample(3)"
   ]
  },
  {
   "cell_type": "code",
   "execution_count": 14,
   "id": "fc8db23f-ce88-4e15-99aa-b84b0ff3e537",
   "metadata": {},
   "outputs": [
    {
     "data": {
      "text/plain": [
       "0        2\n",
       "1        2\n",
       "2        2\n",
       "3        2\n",
       "4        2\n",
       "        ..\n",
       "13273    0\n",
       "13274    0\n",
       "13275    0\n",
       "13276    0\n",
       "13277    0\n",
       "Name: Applied at, Length: 13278, dtype: int32"
      ]
     },
     "execution_count": 14,
     "metadata": {},
     "output_type": "execute_result"
    }
   ],
   "source": [
    "df_merge['Applied at'].dt.weekday                 # Determining the week number for each date"
   ]
  },
  {
   "cell_type": "code",
   "execution_count": 15,
   "id": "9c1e734c-9a53-4ef0-b21b-2e51d4c2b43c",
   "metadata": {},
   "outputs": [
    {
     "data": {
      "text/plain": [
       "0        Wednesday\n",
       "1        Wednesday\n",
       "2        Wednesday\n",
       "3        Wednesday\n",
       "4        Wednesday\n",
       "           ...    \n",
       "13273       Monday\n",
       "13274       Monday\n",
       "13275       Monday\n",
       "13276       Monday\n",
       "13277       Monday\n",
       "Name: Applied at, Length: 13278, dtype: object"
      ]
     },
     "execution_count": 15,
     "metadata": {},
     "output_type": "execute_result"
    }
   ],
   "source": [
    "df_merge['Applied at'].dt.day_name()                  #Determining the name of the day of the week for each date"
   ]
  },
  {
   "cell_type": "code",
   "execution_count": 16,
   "id": "c5bf672d-59ef-4b2b-9608-136f24f2f12d",
   "metadata": {},
   "outputs": [],
   "source": [
    "if_2 = (df_merge['Applied at'].dt.weekday < 5) * 20              # Considering the second and subsequent ranking conditions"
   ]
  },
  {
   "cell_type": "code",
   "execution_count": 17,
   "id": "5bbac9a7-3bfc-4207-9bd2-e9c964bc2e49",
   "metadata": {},
   "outputs": [],
   "source": [
    "if_3 = (df_merge['Marital status'] == 'Married') * 20"
   ]
  },
  {
   "cell_type": "code",
   "execution_count": 18,
   "id": "918ac384-e157-40df-8c05-35ef1a87dbb1",
   "metadata": {},
   "outputs": [],
   "source": [
    "if_4 = df_merge['Location'].str.contains('Київ чи область', na=False) * 10"
   ]
  },
  {
   "cell_type": "code",
   "execution_count": 19,
   "id": "af7e8936-8b43-4518-aa00-cd19812a7ef4",
   "metadata": {},
   "outputs": [],
   "source": [
    "if_5 = df_merge.Score.fillna(0)"
   ]
  },
  {
   "cell_type": "code",
   "execution_count": 20,
   "id": "c0249ced-13a3-4923-bc9c-78327bcee4fd",
   "metadata": {},
   "outputs": [],
   "source": [
    "if_6_1 = (df_merge['External Rating'] >= 7) * 20\n",
    "if_6_2 = (df_merge['External Rating'] <= 2) * -20"
   ]
  },
  {
   "cell_type": "code",
   "execution_count": 21,
   "id": "6c89f3d0-5d76-43a4-99ee-f9686181be4e",
   "metadata": {},
   "outputs": [
    {
     "data": {
      "text/html": [
       "<div>\n",
       "<style scoped>\n",
       "    .dataframe tbody tr th:only-of-type {\n",
       "        vertical-align: middle;\n",
       "    }\n",
       "\n",
       "    .dataframe tbody tr th {\n",
       "        vertical-align: top;\n",
       "    }\n",
       "\n",
       "    .dataframe thead th {\n",
       "        text-align: right;\n",
       "    }\n",
       "</style>\n",
       "<table border=\"1\" class=\"dataframe\">\n",
       "  <thead>\n",
       "    <tr style=\"text-align: right;\">\n",
       "      <th></th>\n",
       "      <th>Applied at</th>\n",
       "      <th>Amount</th>\n",
       "      <th>Age</th>\n",
       "      <th>Gender</th>\n",
       "      <th>Industry</th>\n",
       "      <th>Marital status</th>\n",
       "      <th>External Rating</th>\n",
       "      <th>Education level</th>\n",
       "      <th>Location</th>\n",
       "      <th>applicant_id</th>\n",
       "      <th>Score</th>\n",
       "      <th>Rating</th>\n",
       "    </tr>\n",
       "  </thead>\n",
       "  <tbody>\n",
       "    <tr>\n",
       "      <th>0</th>\n",
       "      <td>2022-11-30 10:26:39</td>\n",
       "      <td>NaN</td>\n",
       "      <td>36</td>\n",
       "      <td>Чоловік</td>\n",
       "      <td>Public services / Government</td>\n",
       "      <td>Single</td>\n",
       "      <td>3.0</td>\n",
       "      <td>Вища (бакалавр, спеціаліст, магістр)</td>\n",
       "      <td>NaN</td>\n",
       "      <td>63dfcf8e6904186650d6814279fbe42f</td>\n",
       "      <td>20</td>\n",
       "      <td>60</td>\n",
       "    </tr>\n",
       "    <tr>\n",
       "      <th>1</th>\n",
       "      <td>2022-11-30 10:26:58</td>\n",
       "      <td>7500.0</td>\n",
       "      <td>34</td>\n",
       "      <td>Чоловік</td>\n",
       "      <td>Adtech / Advertising</td>\n",
       "      <td>Single</td>\n",
       "      <td>4.0</td>\n",
       "      <td>Вища (бакалавр, спеціаліст, магістр)</td>\n",
       "      <td>Київ чи область</td>\n",
       "      <td>10dbafaeb46c09e96b6987c03bbb3498</td>\n",
       "      <td>10</td>\n",
       "      <td>40</td>\n",
       "    </tr>\n",
       "    <tr>\n",
       "      <th>2</th>\n",
       "      <td>2022-11-30 10:27:31</td>\n",
       "      <td>1500.0</td>\n",
       "      <td>23</td>\n",
       "      <td>Жінка</td>\n",
       "      <td>Telecom</td>\n",
       "      <td>Single</td>\n",
       "      <td>0.0</td>\n",
       "      <td>Вища (бакалавр, спеціаліст, магістр)</td>\n",
       "      <td>Львів чи область</td>\n",
       "      <td>5847ac62cc9eac5e323c2517dcc91ad1</td>\n",
       "      <td>15</td>\n",
       "      <td>15</td>\n",
       "    </tr>\n",
       "    <tr>\n",
       "      <th>3</th>\n",
       "      <td>2022-11-30 10:27:34</td>\n",
       "      <td>8400.0</td>\n",
       "      <td>33</td>\n",
       "      <td>Жінка</td>\n",
       "      <td>Automotive</td>\n",
       "      <td>Single</td>\n",
       "      <td>6.0</td>\n",
       "      <td>Вища (бакалавр, спеціаліст, магістр)</td>\n",
       "      <td>Житомир чи область</td>\n",
       "      <td>5d21f3795b50de8e8f8f8d5f48b754f3</td>\n",
       "      <td>15</td>\n",
       "      <td>35</td>\n",
       "    </tr>\n",
       "    <tr>\n",
       "      <th>4</th>\n",
       "      <td>2022-11-30 10:27:38</td>\n",
       "      <td>16500.0</td>\n",
       "      <td>31</td>\n",
       "      <td>Чоловік</td>\n",
       "      <td>E-commerce</td>\n",
       "      <td>Single</td>\n",
       "      <td>8.0</td>\n",
       "      <td>Вища (бакалавр, спеціаліст, магістр)</td>\n",
       "      <td>Київ чи область</td>\n",
       "      <td>f720bf9c5c4c3e10a8568c1699847696</td>\n",
       "      <td>15</td>\n",
       "      <td>65</td>\n",
       "    </tr>\n",
       "  </tbody>\n",
       "</table>\n",
       "</div>"
      ],
      "text/plain": [
       "           Applied at   Amount  Age   Gender                      Industry  \\\n",
       "0 2022-11-30 10:26:39      NaN   36  Чоловік  Public services / Government   \n",
       "1 2022-11-30 10:26:58   7500.0   34  Чоловік          Adtech / Advertising   \n",
       "2 2022-11-30 10:27:31   1500.0   23    Жінка                       Telecom   \n",
       "3 2022-11-30 10:27:34   8400.0   33    Жінка                    Automotive   \n",
       "4 2022-11-30 10:27:38  16500.0   31  Чоловік                    E-commerce   \n",
       "\n",
       "  Marital status  External Rating                       Education level  \\\n",
       "0         Single              3.0  Вища (бакалавр, спеціаліст, магістр)   \n",
       "1         Single              4.0  Вища (бакалавр, спеціаліст, магістр)   \n",
       "2         Single              0.0  Вища (бакалавр, спеціаліст, магістр)   \n",
       "3         Single              6.0  Вища (бакалавр, спеціаліст, магістр)   \n",
       "4         Single              8.0  Вища (бакалавр, спеціаліст, магістр)   \n",
       "\n",
       "             Location                      applicant_id  Score  Rating  \n",
       "0                 NaN  63dfcf8e6904186650d6814279fbe42f     20      60  \n",
       "1     Київ чи область  10dbafaeb46c09e96b6987c03bbb3498     10      40  \n",
       "2    Львів чи область  5847ac62cc9eac5e323c2517dcc91ad1     15      15  \n",
       "3  Житомир чи область  5d21f3795b50de8e8f8f8d5f48b754f3     15      35  \n",
       "4     Київ чи область  f720bf9c5c4c3e10a8568c1699847696     15      65  "
      ]
     },
     "execution_count": 21,
     "metadata": {},
     "output_type": "execute_result"
    }
   ],
   "source": [
    "df_merge['Rating'] = if_1 + if_2 + if_3 + if_4 + if_5 + if_6_1 + if_6_2\n",
    "df_merge.head()                                                       # Intermediate resulting rating"
   ]
  },
  {
   "cell_type": "code",
   "execution_count": 22,
   "id": "126de348-ff8b-44ea-b9fd-b854e319e533",
   "metadata": {},
   "outputs": [],
   "source": [
    "mask_zero = (\n",
    "    df_merge['Amount'].isna() |\n",
    "    df_merge['External Rating'].isna() |\n",
    "    (df_merge['External Rating'] == 0)\n",
    ")\n",
    "\n",
    "df_merge.loc[mask_zero, 'Rating'] = 0                      # Reset the rating if there is no Amount or External Rating == 0"
   ]
  },
  {
   "cell_type": "code",
   "execution_count": 23,
   "id": "1d24d74d-35e9-4b2f-8ee1-00d2df9450bd",
   "metadata": {},
   "outputs": [
    {
     "data": {
      "text/html": [
       "<div>\n",
       "<style scoped>\n",
       "    .dataframe tbody tr th:only-of-type {\n",
       "        vertical-align: middle;\n",
       "    }\n",
       "\n",
       "    .dataframe tbody tr th {\n",
       "        vertical-align: top;\n",
       "    }\n",
       "\n",
       "    .dataframe thead th {\n",
       "        text-align: right;\n",
       "    }\n",
       "</style>\n",
       "<table border=\"1\" class=\"dataframe\">\n",
       "  <thead>\n",
       "    <tr style=\"text-align: right;\">\n",
       "      <th></th>\n",
       "      <th>Applied at</th>\n",
       "      <th>Amount</th>\n",
       "      <th>Age</th>\n",
       "      <th>Gender</th>\n",
       "      <th>Industry</th>\n",
       "      <th>Marital status</th>\n",
       "      <th>External Rating</th>\n",
       "      <th>Education level</th>\n",
       "      <th>Location</th>\n",
       "      <th>applicant_id</th>\n",
       "      <th>Score</th>\n",
       "      <th>Rating</th>\n",
       "    </tr>\n",
       "  </thead>\n",
       "  <tbody>\n",
       "    <tr>\n",
       "      <th>0</th>\n",
       "      <td>2022-11-30 10:26:39</td>\n",
       "      <td>NaN</td>\n",
       "      <td>36</td>\n",
       "      <td>Чоловік</td>\n",
       "      <td>Public services / Government</td>\n",
       "      <td>Single</td>\n",
       "      <td>3.0</td>\n",
       "      <td>Вища (бакалавр, спеціаліст, магістр)</td>\n",
       "      <td>NaN</td>\n",
       "      <td>63dfcf8e6904186650d6814279fbe42f</td>\n",
       "      <td>20</td>\n",
       "      <td>0</td>\n",
       "    </tr>\n",
       "    <tr>\n",
       "      <th>1</th>\n",
       "      <td>2022-11-30 10:26:58</td>\n",
       "      <td>7500.0</td>\n",
       "      <td>34</td>\n",
       "      <td>Чоловік</td>\n",
       "      <td>Adtech / Advertising</td>\n",
       "      <td>Single</td>\n",
       "      <td>4.0</td>\n",
       "      <td>Вища (бакалавр, спеціаліст, магістр)</td>\n",
       "      <td>Київ чи область</td>\n",
       "      <td>10dbafaeb46c09e96b6987c03bbb3498</td>\n",
       "      <td>10</td>\n",
       "      <td>40</td>\n",
       "    </tr>\n",
       "    <tr>\n",
       "      <th>2</th>\n",
       "      <td>2022-11-30 10:27:31</td>\n",
       "      <td>1500.0</td>\n",
       "      <td>23</td>\n",
       "      <td>Жінка</td>\n",
       "      <td>Telecom</td>\n",
       "      <td>Single</td>\n",
       "      <td>0.0</td>\n",
       "      <td>Вища (бакалавр, спеціаліст, магістр)</td>\n",
       "      <td>Львів чи область</td>\n",
       "      <td>5847ac62cc9eac5e323c2517dcc91ad1</td>\n",
       "      <td>15</td>\n",
       "      <td>0</td>\n",
       "    </tr>\n",
       "    <tr>\n",
       "      <th>3</th>\n",
       "      <td>2022-11-30 10:27:34</td>\n",
       "      <td>8400.0</td>\n",
       "      <td>33</td>\n",
       "      <td>Жінка</td>\n",
       "      <td>Automotive</td>\n",
       "      <td>Single</td>\n",
       "      <td>6.0</td>\n",
       "      <td>Вища (бакалавр, спеціаліст, магістр)</td>\n",
       "      <td>Житомир чи область</td>\n",
       "      <td>5d21f3795b50de8e8f8f8d5f48b754f3</td>\n",
       "      <td>15</td>\n",
       "      <td>35</td>\n",
       "    </tr>\n",
       "    <tr>\n",
       "      <th>4</th>\n",
       "      <td>2022-11-30 10:27:38</td>\n",
       "      <td>16500.0</td>\n",
       "      <td>31</td>\n",
       "      <td>Чоловік</td>\n",
       "      <td>E-commerce</td>\n",
       "      <td>Single</td>\n",
       "      <td>8.0</td>\n",
       "      <td>Вища (бакалавр, спеціаліст, магістр)</td>\n",
       "      <td>Київ чи область</td>\n",
       "      <td>f720bf9c5c4c3e10a8568c1699847696</td>\n",
       "      <td>15</td>\n",
       "      <td>65</td>\n",
       "    </tr>\n",
       "  </tbody>\n",
       "</table>\n",
       "</div>"
      ],
      "text/plain": [
       "           Applied at   Amount  Age   Gender                      Industry  \\\n",
       "0 2022-11-30 10:26:39      NaN   36  Чоловік  Public services / Government   \n",
       "1 2022-11-30 10:26:58   7500.0   34  Чоловік          Adtech / Advertising   \n",
       "2 2022-11-30 10:27:31   1500.0   23    Жінка                       Telecom   \n",
       "3 2022-11-30 10:27:34   8400.0   33    Жінка                    Automotive   \n",
       "4 2022-11-30 10:27:38  16500.0   31  Чоловік                    E-commerce   \n",
       "\n",
       "  Marital status  External Rating                       Education level  \\\n",
       "0         Single              3.0  Вища (бакалавр, спеціаліст, магістр)   \n",
       "1         Single              4.0  Вища (бакалавр, спеціаліст, магістр)   \n",
       "2         Single              0.0  Вища (бакалавр, спеціаліст, магістр)   \n",
       "3         Single              6.0  Вища (бакалавр, спеціаліст, магістр)   \n",
       "4         Single              8.0  Вища (бакалавр, спеціаліст, магістр)   \n",
       "\n",
       "             Location                      applicant_id  Score  Rating  \n",
       "0                 NaN  63dfcf8e6904186650d6814279fbe42f     20       0  \n",
       "1     Київ чи область  10dbafaeb46c09e96b6987c03bbb3498     10      40  \n",
       "2    Львів чи область  5847ac62cc9eac5e323c2517dcc91ad1     15       0  \n",
       "3  Житомир чи область  5d21f3795b50de8e8f8f8d5f48b754f3     15      35  \n",
       "4     Київ чи область  f720bf9c5c4c3e10a8568c1699847696     15      65  "
      ]
     },
     "execution_count": 23,
     "metadata": {},
     "output_type": "execute_result"
    }
   ],
   "source": [
    "df_merge.head()                                            # Resulting rating"
   ]
  },
  {
   "cell_type": "code",
   "execution_count": 24,
   "id": "c0742d24-7360-4d4a-aaf2-4befeb0604f0",
   "metadata": {},
   "outputs": [
    {
     "data": {
      "text/plain": [
       "(13278, 12)"
      ]
     },
     "execution_count": 24,
     "metadata": {},
     "output_type": "execute_result"
    }
   ],
   "source": [
    "df_merge.shape                       # Preliminary checking the number of rows and columns"
   ]
  },
  {
   "cell_type": "markdown",
   "id": "5724ae39-4337-4f2c-9af5-d5aea69cbe6d",
   "metadata": {},
   "source": [
    "#### 4. In the resulting table, leave only applications with a rating greater than zero, these applications will be considered accepted"
   ]
  },
  {
   "cell_type": "code",
   "execution_count": 25,
   "id": "901c18e5-1f88-4300-b44d-5a26c103eb41",
   "metadata": {},
   "outputs": [
    {
     "data": {
      "text/plain": [
       "(12443, 12)"
      ]
     },
     "execution_count": 25,
     "metadata": {},
     "output_type": "execute_result"
    }
   ],
   "source": [
    "df_merge = df_merge[(df_merge['Rating'] > 0) & (df_merge['Rating'] <= 100)]  # Limiting the rating to a number from 0 to 100\n",
    "df_merge.shape"
   ]
  },
  {
   "cell_type": "code",
   "execution_count": 26,
   "id": "7708988e-b465-4c91-9711-5b1d021ece7c",
   "metadata": {},
   "outputs": [
    {
     "data": {
      "text/html": [
       "<div>\n",
       "<style scoped>\n",
       "    .dataframe tbody tr th:only-of-type {\n",
       "        vertical-align: middle;\n",
       "    }\n",
       "\n",
       "    .dataframe tbody tr th {\n",
       "        vertical-align: top;\n",
       "    }\n",
       "\n",
       "    .dataframe thead th {\n",
       "        text-align: right;\n",
       "    }\n",
       "</style>\n",
       "<table border=\"1\" class=\"dataframe\">\n",
       "  <thead>\n",
       "    <tr style=\"text-align: right;\">\n",
       "      <th></th>\n",
       "      <th>Applied at</th>\n",
       "      <th>Amount</th>\n",
       "      <th>Age</th>\n",
       "      <th>Gender</th>\n",
       "      <th>Industry</th>\n",
       "      <th>Marital status</th>\n",
       "      <th>External Rating</th>\n",
       "      <th>Education level</th>\n",
       "      <th>Location</th>\n",
       "      <th>applicant_id</th>\n",
       "      <th>Score</th>\n",
       "      <th>Rating</th>\n",
       "    </tr>\n",
       "  </thead>\n",
       "  <tbody>\n",
       "    <tr>\n",
       "      <th>1</th>\n",
       "      <td>2022-11-30 10:26:58</td>\n",
       "      <td>7500.0</td>\n",
       "      <td>34</td>\n",
       "      <td>Чоловік</td>\n",
       "      <td>Adtech / Advertising</td>\n",
       "      <td>Single</td>\n",
       "      <td>4.0</td>\n",
       "      <td>Вища (бакалавр, спеціаліст, магістр)</td>\n",
       "      <td>Київ чи область</td>\n",
       "      <td>10dbafaeb46c09e96b6987c03bbb3498</td>\n",
       "      <td>10</td>\n",
       "      <td>40</td>\n",
       "    </tr>\n",
       "    <tr>\n",
       "      <th>3</th>\n",
       "      <td>2022-11-30 10:27:34</td>\n",
       "      <td>8400.0</td>\n",
       "      <td>33</td>\n",
       "      <td>Жінка</td>\n",
       "      <td>Automotive</td>\n",
       "      <td>Single</td>\n",
       "      <td>6.0</td>\n",
       "      <td>Вища (бакалавр, спеціаліст, магістр)</td>\n",
       "      <td>Житомир чи область</td>\n",
       "      <td>5d21f3795b50de8e8f8f8d5f48b754f3</td>\n",
       "      <td>15</td>\n",
       "      <td>35</td>\n",
       "    </tr>\n",
       "    <tr>\n",
       "      <th>4</th>\n",
       "      <td>2022-11-30 10:27:38</td>\n",
       "      <td>16500.0</td>\n",
       "      <td>31</td>\n",
       "      <td>Чоловік</td>\n",
       "      <td>E-commerce</td>\n",
       "      <td>Single</td>\n",
       "      <td>8.0</td>\n",
       "      <td>Вища (бакалавр, спеціаліст, магістр)</td>\n",
       "      <td>Київ чи область</td>\n",
       "      <td>f720bf9c5c4c3e10a8568c1699847696</td>\n",
       "      <td>15</td>\n",
       "      <td>65</td>\n",
       "    </tr>\n",
       "    <tr>\n",
       "      <th>5</th>\n",
       "      <td>2022-11-30 10:27:42</td>\n",
       "      <td>4200.0</td>\n",
       "      <td>30</td>\n",
       "      <td>Чоловік</td>\n",
       "      <td>Media</td>\n",
       "      <td>Married</td>\n",
       "      <td>1.0</td>\n",
       "      <td>Вища (бакалавр, спеціаліст, магістр)</td>\n",
       "      <td>Київ чи область</td>\n",
       "      <td>0aaf59fb3ef90f50ccd4800312e5c271</td>\n",
       "      <td>5</td>\n",
       "      <td>35</td>\n",
       "    </tr>\n",
       "    <tr>\n",
       "      <th>6</th>\n",
       "      <td>2022-11-30 10:27:44</td>\n",
       "      <td>3600.0</td>\n",
       "      <td>24</td>\n",
       "      <td>Чоловік</td>\n",
       "      <td>E-commerce</td>\n",
       "      <td>Married</td>\n",
       "      <td>1.0</td>\n",
       "      <td>Вища (бакалавр, спеціаліст, магістр)</td>\n",
       "      <td>Львів чи область</td>\n",
       "      <td>aa54d6e672e4233febadbafdfd048327</td>\n",
       "      <td>15</td>\n",
       "      <td>35</td>\n",
       "    </tr>\n",
       "  </tbody>\n",
       "</table>\n",
       "</div>"
      ],
      "text/plain": [
       "           Applied at   Amount  Age   Gender              Industry  \\\n",
       "1 2022-11-30 10:26:58   7500.0   34  Чоловік  Adtech / Advertising   \n",
       "3 2022-11-30 10:27:34   8400.0   33    Жінка            Automotive   \n",
       "4 2022-11-30 10:27:38  16500.0   31  Чоловік            E-commerce   \n",
       "5 2022-11-30 10:27:42   4200.0   30  Чоловік                 Media   \n",
       "6 2022-11-30 10:27:44   3600.0   24  Чоловік            E-commerce   \n",
       "\n",
       "  Marital status  External Rating                       Education level  \\\n",
       "1         Single              4.0  Вища (бакалавр, спеціаліст, магістр)   \n",
       "3         Single              6.0  Вища (бакалавр, спеціаліст, магістр)   \n",
       "4         Single              8.0  Вища (бакалавр, спеціаліст, магістр)   \n",
       "5        Married              1.0  Вища (бакалавр, спеціаліст, магістр)   \n",
       "6        Married              1.0  Вища (бакалавр, спеціаліст, магістр)   \n",
       "\n",
       "             Location                      applicant_id  Score  Rating  \n",
       "1     Київ чи область  10dbafaeb46c09e96b6987c03bbb3498     10      40  \n",
       "3  Житомир чи область  5d21f3795b50de8e8f8f8d5f48b754f3     15      35  \n",
       "4     Київ чи область  f720bf9c5c4c3e10a8568c1699847696     15      65  \n",
       "5     Київ чи область  0aaf59fb3ef90f50ccd4800312e5c271      5      35  \n",
       "6    Львів чи область  aa54d6e672e4233febadbafdfd048327     15      35  "
      ]
     },
     "execution_count": 26,
     "metadata": {},
     "output_type": "execute_result"
    }
   ],
   "source": [
    "df_merge.head()                                                              # Final rating"
   ]
  },
  {
   "cell_type": "code",
   "execution_count": 27,
   "id": "267431f0-e318-48a0-87ee-d045e47ee9a9",
   "metadata": {},
   "outputs": [
    {
     "data": {
      "text/html": [
       "<div>\n",
       "<style scoped>\n",
       "    .dataframe tbody tr th:only-of-type {\n",
       "        vertical-align: middle;\n",
       "    }\n",
       "\n",
       "    .dataframe tbody tr th {\n",
       "        vertical-align: top;\n",
       "    }\n",
       "\n",
       "    .dataframe thead th {\n",
       "        text-align: right;\n",
       "    }\n",
       "</style>\n",
       "<table border=\"1\" class=\"dataframe\">\n",
       "  <thead>\n",
       "    <tr style=\"text-align: right;\">\n",
       "      <th></th>\n",
       "      <th>Applied at</th>\n",
       "      <th>Amount</th>\n",
       "      <th>Age</th>\n",
       "      <th>Gender</th>\n",
       "      <th>Industry</th>\n",
       "      <th>Marital status</th>\n",
       "      <th>External Rating</th>\n",
       "      <th>Education level</th>\n",
       "      <th>Location</th>\n",
       "      <th>applicant_id</th>\n",
       "      <th>Score</th>\n",
       "      <th>Rating</th>\n",
       "    </tr>\n",
       "  </thead>\n",
       "  <tbody>\n",
       "    <tr>\n",
       "      <th>13275</th>\n",
       "      <td>2023-01-09 11:19:00</td>\n",
       "      <td>5790.0</td>\n",
       "      <td>25</td>\n",
       "      <td>Чоловік</td>\n",
       "      <td>Blockchain</td>\n",
       "      <td>Married</td>\n",
       "      <td>3.0</td>\n",
       "      <td>Вища (бакалавр, спеціаліст, магістр)</td>\n",
       "      <td>Дніпро чи область</td>\n",
       "      <td>e57f181bec5b11870a541c43d9b960f7</td>\n",
       "      <td>0</td>\n",
       "      <td>40</td>\n",
       "    </tr>\n",
       "    <tr>\n",
       "      <th>13276</th>\n",
       "      <td>2023-01-09 11:28:00</td>\n",
       "      <td>13500.0</td>\n",
       "      <td>31</td>\n",
       "      <td>Чоловік</td>\n",
       "      <td>Mobile</td>\n",
       "      <td>Single</td>\n",
       "      <td>8.0</td>\n",
       "      <td>Середня</td>\n",
       "      <td>Одеса чи область</td>\n",
       "      <td>a340c62a1226509949ef60df10a7d726</td>\n",
       "      <td>15</td>\n",
       "      <td>55</td>\n",
       "    </tr>\n",
       "    <tr>\n",
       "      <th>13277</th>\n",
       "      <td>2023-01-09 11:38:00</td>\n",
       "      <td>12600.0</td>\n",
       "      <td>32</td>\n",
       "      <td>Чоловік</td>\n",
       "      <td>High Load Systems</td>\n",
       "      <td>Married</td>\n",
       "      <td>11.0</td>\n",
       "      <td>Вища (бакалавр, спеціаліст, магістр)</td>\n",
       "      <td>NaN</td>\n",
       "      <td>a36a922c50b554cad6cd0eb98a5eaad8</td>\n",
       "      <td>15</td>\n",
       "      <td>75</td>\n",
       "    </tr>\n",
       "  </tbody>\n",
       "</table>\n",
       "</div>"
      ],
      "text/plain": [
       "               Applied at   Amount  Age   Gender           Industry  \\\n",
       "13275 2023-01-09 11:19:00   5790.0   25  Чоловік         Blockchain   \n",
       "13276 2023-01-09 11:28:00  13500.0   31  Чоловік             Mobile   \n",
       "13277 2023-01-09 11:38:00  12600.0   32  Чоловік  High Load Systems   \n",
       "\n",
       "      Marital status  External Rating                       Education level  \\\n",
       "13275        Married              3.0  Вища (бакалавр, спеціаліст, магістр)   \n",
       "13276         Single              8.0                               Середня   \n",
       "13277        Married             11.0  Вища (бакалавр, спеціаліст, магістр)   \n",
       "\n",
       "                Location                      applicant_id  Score  Rating  \n",
       "13275  Дніпро чи область  e57f181bec5b11870a541c43d9b960f7      0      40  \n",
       "13276   Одеса чи область  a340c62a1226509949ef60df10a7d726     15      55  \n",
       "13277                NaN  a36a922c50b554cad6cd0eb98a5eaad8     15      75  "
      ]
     },
     "execution_count": 27,
     "metadata": {},
     "output_type": "execute_result"
    }
   ],
   "source": [
    "df_merge.tail(3)"
   ]
  },
  {
   "cell_type": "markdown",
   "id": "addf4de3-5757-48ca-b6bf-b124051a904b",
   "metadata": {},
   "source": [
    "#### 5. Group the data from the resulting table by the week of application submission, and display the average rating of accepted applications in each week.\n"
   ]
  },
  {
   "cell_type": "code",
   "execution_count": 28,
   "id": "a5ad001f-b904-408d-b97c-527c71086669",
   "metadata": {},
   "outputs": [
    {
     "data": {
      "text/html": [
       "<div>\n",
       "<style scoped>\n",
       "    .dataframe tbody tr th:only-of-type {\n",
       "        vertical-align: middle;\n",
       "    }\n",
       "\n",
       "    .dataframe tbody tr th {\n",
       "        vertical-align: top;\n",
       "    }\n",
       "\n",
       "    .dataframe thead th {\n",
       "        text-align: right;\n",
       "    }\n",
       "</style>\n",
       "<table border=\"1\" class=\"dataframe\">\n",
       "  <thead>\n",
       "    <tr style=\"text-align: right;\">\n",
       "      <th></th>\n",
       "      <th>Applied at</th>\n",
       "      <th>Amount</th>\n",
       "      <th>Age</th>\n",
       "      <th>Gender</th>\n",
       "      <th>Industry</th>\n",
       "      <th>Marital status</th>\n",
       "      <th>External Rating</th>\n",
       "      <th>Education level</th>\n",
       "      <th>Location</th>\n",
       "      <th>applicant_id</th>\n",
       "      <th>Score</th>\n",
       "      <th>Rating</th>\n",
       "      <th>Year week</th>\n",
       "    </tr>\n",
       "  </thead>\n",
       "  <tbody>\n",
       "    <tr>\n",
       "      <th>1</th>\n",
       "      <td>2022-11-30 10:26:58</td>\n",
       "      <td>7500.0</td>\n",
       "      <td>34</td>\n",
       "      <td>Чоловік</td>\n",
       "      <td>Adtech / Advertising</td>\n",
       "      <td>Single</td>\n",
       "      <td>4.0</td>\n",
       "      <td>Вища (бакалавр, спеціаліст, магістр)</td>\n",
       "      <td>Київ чи область</td>\n",
       "      <td>10dbafaeb46c09e96b6987c03bbb3498</td>\n",
       "      <td>10</td>\n",
       "      <td>40</td>\n",
       "      <td>2022_48</td>\n",
       "    </tr>\n",
       "    <tr>\n",
       "      <th>3</th>\n",
       "      <td>2022-11-30 10:27:34</td>\n",
       "      <td>8400.0</td>\n",
       "      <td>33</td>\n",
       "      <td>Жінка</td>\n",
       "      <td>Automotive</td>\n",
       "      <td>Single</td>\n",
       "      <td>6.0</td>\n",
       "      <td>Вища (бакалавр, спеціаліст, магістр)</td>\n",
       "      <td>Житомир чи область</td>\n",
       "      <td>5d21f3795b50de8e8f8f8d5f48b754f3</td>\n",
       "      <td>15</td>\n",
       "      <td>35</td>\n",
       "      <td>2022_48</td>\n",
       "    </tr>\n",
       "    <tr>\n",
       "      <th>4</th>\n",
       "      <td>2022-11-30 10:27:38</td>\n",
       "      <td>16500.0</td>\n",
       "      <td>31</td>\n",
       "      <td>Чоловік</td>\n",
       "      <td>E-commerce</td>\n",
       "      <td>Single</td>\n",
       "      <td>8.0</td>\n",
       "      <td>Вища (бакалавр, спеціаліст, магістр)</td>\n",
       "      <td>Київ чи область</td>\n",
       "      <td>f720bf9c5c4c3e10a8568c1699847696</td>\n",
       "      <td>15</td>\n",
       "      <td>65</td>\n",
       "      <td>2022_48</td>\n",
       "    </tr>\n",
       "  </tbody>\n",
       "</table>\n",
       "</div>"
      ],
      "text/plain": [
       "           Applied at   Amount  Age   Gender              Industry  \\\n",
       "1 2022-11-30 10:26:58   7500.0   34  Чоловік  Adtech / Advertising   \n",
       "3 2022-11-30 10:27:34   8400.0   33    Жінка            Automotive   \n",
       "4 2022-11-30 10:27:38  16500.0   31  Чоловік            E-commerce   \n",
       "\n",
       "  Marital status  External Rating                       Education level  \\\n",
       "1         Single              4.0  Вища (бакалавр, спеціаліст, магістр)   \n",
       "3         Single              6.0  Вища (бакалавр, спеціаліст, магістр)   \n",
       "4         Single              8.0  Вища (бакалавр, спеціаліст, магістр)   \n",
       "\n",
       "             Location                      applicant_id  Score  Rating  \\\n",
       "1     Київ чи область  10dbafaeb46c09e96b6987c03bbb3498     10      40   \n",
       "3  Житомир чи область  5d21f3795b50de8e8f8f8d5f48b754f3     15      35   \n",
       "4     Київ чи область  f720bf9c5c4c3e10a8568c1699847696     15      65   \n",
       "\n",
       "  Year week  \n",
       "1   2022_48  \n",
       "3   2022_48  \n",
       "4   2022_48  "
      ]
     },
     "execution_count": 28,
     "metadata": {},
     "output_type": "execute_result"
    }
   ],
   "source": [
    "iso_calendar = df_merge['Applied at'].dt.isocalendar()\n",
    "df_merge['Year week'] = iso_calendar['year'].astype(str) + '_' + iso_calendar['week'].astype(str).str.zfill(2)\n",
    "df_merge.head(3)"
   ]
  },
  {
   "cell_type": "code",
   "execution_count": 29,
   "id": "a1b4200d-b546-483f-9837-0f48e07ed7e8",
   "metadata": {},
   "outputs": [
    {
     "data": {
      "text/plain": [
       "Year week\n",
       "2022_48    50.097187\n",
       "2022_49    49.021440\n",
       "2022_50    49.387611\n",
       "2022_51    46.512172\n",
       "2022_52    50.581312\n",
       "2023_01    50.804249\n",
       "2023_02    51.875000\n",
       "Name: Rating, dtype: float64"
      ]
     },
     "execution_count": 29,
     "metadata": {},
     "output_type": "execute_result"
    }
   ],
   "source": [
    "grouped_week = df_merge.groupby('Year week')['Rating'].mean().sort_index()  # Grouping data by week of application and outputting the average rating\n",
    "grouped_week"
   ]
  },
  {
   "cell_type": "code",
   "execution_count": 30,
   "id": "bbb34115-7c7c-4300-9656-06e4c2232444",
   "metadata": {},
   "outputs": [],
   "source": [
    "import seaborn as sns                             # loading the seaborn library for data visualization"
   ]
  },
  {
   "cell_type": "code",
   "execution_count": 31,
   "id": "307b077e-167c-4c5e-9389-adc107bf111b",
   "metadata": {},
   "outputs": [],
   "source": [
    "sns.set_theme()"
   ]
  },
  {
   "cell_type": "code",
   "execution_count": 32,
   "id": "fb5a0445-2085-49da-8442-d5e3f22e61a5",
   "metadata": {},
   "outputs": [
    {
     "data": {
      "text/plain": [
       "<Axes: xlabel='Year week'>"
      ]
     },
     "execution_count": 32,
     "metadata": {},
     "output_type": "execute_result"
    },
    {
     "data": {
      "image/png": "[encoded data removed]",
      "text/plain": [
       "<Figure size 640x480 with 1 Axes>"
      ]
     },
     "metadata": {},
     "output_type": "display_data"
    }
   ],
   "source": [
    "sns.lineplot(x=grouped_week.index, y=grouped_week.values)    # visualization of the obtained results"
   ]
  },
  {
   "cell_type": "code",
   "execution_count": null,
   "id": "9d6921d8-1e7b-4ef8-a8a3-3561642a5724",
   "metadata": {},
   "outputs": [],
   "source": []
  }
 ],
 "metadata": {
  "kernelspec": {
   "display_name": "Python 3 (ipykernel)",
   "language": "python",
   "name": "python3"
  },
  "language_info": {
   "codemirror_mode": {
    "name": "ipython",
    "version": 3
   },
   "file_extension": ".py",
   "mimetype": "text/x-python",
   "name": "python",
   "nbconvert_exporter": "python",
   "pygments_lexer": "ipython3",
   "version": "3.13.5"
  }
 },
 "nbformat": 4,
 "nbformat_minor": 5
}
