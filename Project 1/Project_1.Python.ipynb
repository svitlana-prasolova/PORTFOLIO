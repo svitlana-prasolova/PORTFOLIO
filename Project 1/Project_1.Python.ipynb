{
 "cells": [
  {
   "cell_type": "markdown",
   "id": "dc88822b-ed32-4b85-a14f-f28d8414e90c",
   "metadata": {},
   "source": [
    "# StackOverflow Developer Survey Analysis"
   ]
  },
  {
   "cell_type": "markdown",
   "id": "b2bac3d8-ff2c-4213-9184-8a13105e7475",
   "metadata": {},
   "source": [
    "##  Author: SVITLANA PRASOLOVA"
   ]
  },
  {
   "cell_type": "markdown",
   "id": "556caaab-4b43-41e7-9c3c-3cd8ff688b5e",
   "metadata": {},
   "source": [
    "## Data Analytics Project \n",
    "Data analysis of the latest StackOverflow Developer Survey using Python & Pandas.\n",
    "Explored trends in developers’ experience, work format, education, and compensation.\n",
    "Includes insights on Python usage, remote work, and global salary patterns"
   ]
  },
  {
   "cell_type": "markdown",
   "id": "7766a469-3fd8-4cf3-973b-4ac6f29ef7fb",
   "metadata": {},
   "source": [
    "## Project Tasks\n",
    "- Load and explore the latest StackOverflow Developer Survey dataset.\n",
    "- Clean and prepare data using Pandas.\n",
    "- Analyze developers’ profiles: experience, work format, education, and programming languages.\n",
    "- Evaluate Python usage, remote work, and compensation trends by country."
   ]
  },
  {
   "cell_type": "markdown",
   "id": "b77f8268-31ac-4419-8372-3f50bceb63ef",
   "metadata": {},
   "source": [
    "## Results:\n",
    "- Performed statistical and exploratory data analysis on survey results.\n",
    "- Identified trends by experience, country, compensation, and programming languages.\n",
    "- Provided insights into socio-economic patterns among Python developers."
   ]
  },
  {
   "cell_type": "markdown",
   "id": "347ae41c-7c07-4490-bfb8-3e1fcc6a2118",
   "metadata": {},
   "source": [
    "# Process\n",
    "### Preparing work environment\n",
    "I will be using Python for the data transformation and research. The following libraries are installed:"
   ]
  },
  {
   "cell_type": "code",
   "execution_count": 13,
   "id": "a55b75e5-c218-44db-9c77-c2df792595ea",
   "metadata": {},
   "outputs": [],
   "source": [
    "import pandas as pd\n",
    "import numpy as np"
   ]
  },
  {
   "cell_type": "code",
   "execution_count": 14,
   "id": "78619a11-3307-4440-9633-760e0b553f7b",
   "metadata": {},
   "outputs": [
    {
     "data": {
      "text/html": [
       "<div>\n",
       "<style scoped>\n",
       "    .dataframe tbody tr th:only-of-type {\n",
       "        vertical-align: middle;\n",
       "    }\n",
       "\n",
       "    .dataframe tbody tr th {\n",
       "        vertical-align: top;\n",
       "    }\n",
       "\n",
       "    .dataframe thead th {\n",
       "        text-align: right;\n",
       "    }\n",
       "</style>\n",
       "<table border=\"1\" class=\"dataframe\">\n",
       "  <thead>\n",
       "    <tr style=\"text-align: right;\">\n",
       "      <th></th>\n",
       "      <th>ResponseId</th>\n",
       "      <th>MainBranch</th>\n",
       "      <th>Age</th>\n",
       "      <th>EdLevel</th>\n",
       "      <th>Employment</th>\n",
       "      <th>EmploymentAddl</th>\n",
       "      <th>WorkExp</th>\n",
       "      <th>LearnCodeChoose</th>\n",
       "      <th>LearnCode</th>\n",
       "      <th>LearnCodeAI</th>\n",
       "      <th>...</th>\n",
       "      <th>AIAgentOrchestration</th>\n",
       "      <th>AIAgentOrchWrite</th>\n",
       "      <th>AIAgentObserveSecure</th>\n",
       "      <th>AIAgentObsWrite</th>\n",
       "      <th>AIAgentExternal</th>\n",
       "      <th>AIAgentExtWrite</th>\n",
       "      <th>AIHuman</th>\n",
       "      <th>AIOpen</th>\n",
       "      <th>ConvertedCompYearly</th>\n",
       "      <th>JobSat</th>\n",
       "    </tr>\n",
       "  </thead>\n",
       "  <tbody>\n",
       "    <tr>\n",
       "      <th>0</th>\n",
       "      <td>1</td>\n",
       "      <td>I am a developer by profession</td>\n",
       "      <td>25-34 years old</td>\n",
       "      <td>Master’s degree (M.A., M.S., M.Eng., MBA, etc.)</td>\n",
       "      <td>Employed</td>\n",
       "      <td>Caring for dependents (children, elderly, etc.)</td>\n",
       "      <td>8.0</td>\n",
       "      <td>Yes, I am not new to coding but am learning ne...</td>\n",
       "      <td>Online Courses or Certification (includes all ...</td>\n",
       "      <td>Yes, I learned how to use AI-enabled tools for...</td>\n",
       "      <td>...</td>\n",
       "      <td>Vertex AI</td>\n",
       "      <td>NaN</td>\n",
       "      <td>NaN</td>\n",
       "      <td>NaN</td>\n",
       "      <td>ChatGPT</td>\n",
       "      <td>NaN</td>\n",
       "      <td>When I don’t trust AI’s answers</td>\n",
       "      <td>Troubleshooting, profiling, debugging</td>\n",
       "      <td>61256.0</td>\n",
       "      <td>10.0</td>\n",
       "    </tr>\n",
       "    <tr>\n",
       "      <th>1</th>\n",
       "      <td>2</td>\n",
       "      <td>I am a developer by profession</td>\n",
       "      <td>25-34 years old</td>\n",
       "      <td>Associate degree (A.A., A.S., etc.)</td>\n",
       "      <td>Employed</td>\n",
       "      <td>NaN</td>\n",
       "      <td>2.0</td>\n",
       "      <td>Yes, I am not new to coding but am learning ne...</td>\n",
       "      <td>Online Courses or Certification (includes all ...</td>\n",
       "      <td>Yes, I learned how to use AI-enabled tools for...</td>\n",
       "      <td>...</td>\n",
       "      <td>NaN</td>\n",
       "      <td>NaN</td>\n",
       "      <td>NaN</td>\n",
       "      <td>NaN</td>\n",
       "      <td>NaN</td>\n",
       "      <td>NaN</td>\n",
       "      <td>When I don’t trust AI’s answers;When I want to...</td>\n",
       "      <td>All skills. AI is a flop.</td>\n",
       "      <td>104413.0</td>\n",
       "      <td>9.0</td>\n",
       "    </tr>\n",
       "    <tr>\n",
       "      <th>2</th>\n",
       "      <td>3</td>\n",
       "      <td>I am a developer by profession</td>\n",
       "      <td>35-44 years old</td>\n",
       "      <td>Bachelor’s degree (B.A., B.S., B.Eng., etc.)</td>\n",
       "      <td>Independent contractor, freelancer, or self-em...</td>\n",
       "      <td>None of the above</td>\n",
       "      <td>10.0</td>\n",
       "      <td>Yes, I am not new to coding but am learning ne...</td>\n",
       "      <td>Online Courses or Certification (includes all ...</td>\n",
       "      <td>Yes, I learned how to use AI-enabled tools for...</td>\n",
       "      <td>...</td>\n",
       "      <td>NaN</td>\n",
       "      <td>NaN</td>\n",
       "      <td>NaN</td>\n",
       "      <td>NaN</td>\n",
       "      <td>ChatGPT;Claude Code;GitHub Copilot;Google Gemini</td>\n",
       "      <td>NaN</td>\n",
       "      <td>When I don’t trust AI’s answers;When I want to...</td>\n",
       "      <td>Understand how things actually work, problem s...</td>\n",
       "      <td>53061.0</td>\n",
       "      <td>8.0</td>\n",
       "    </tr>\n",
       "    <tr>\n",
       "      <th>3</th>\n",
       "      <td>4</td>\n",
       "      <td>I am a developer by profession</td>\n",
       "      <td>35-44 years old</td>\n",
       "      <td>Bachelor’s degree (B.A., B.S., B.Eng., etc.)</td>\n",
       "      <td>Employed</td>\n",
       "      <td>None of the above</td>\n",
       "      <td>4.0</td>\n",
       "      <td>Yes, I am not new to coding but am learning ne...</td>\n",
       "      <td>Other online resources (e.g. standard search, ...</td>\n",
       "      <td>Yes, I learned how to use AI-enabled tools for...</td>\n",
       "      <td>...</td>\n",
       "      <td>NaN</td>\n",
       "      <td>NaN</td>\n",
       "      <td>NaN</td>\n",
       "      <td>NaN</td>\n",
       "      <td>ChatGPT;Claude Code</td>\n",
       "      <td>NaN</td>\n",
       "      <td>When I don’t trust AI’s answers;When I want to...</td>\n",
       "      <td>NaN</td>\n",
       "      <td>36197.0</td>\n",
       "      <td>6.0</td>\n",
       "    </tr>\n",
       "    <tr>\n",
       "      <th>4</th>\n",
       "      <td>5</td>\n",
       "      <td>I am a developer by profession</td>\n",
       "      <td>35-44 years old</td>\n",
       "      <td>Master’s degree (M.A., M.S., M.Eng., MBA, etc.)</td>\n",
       "      <td>Independent contractor, freelancer, or self-em...</td>\n",
       "      <td>Caring for dependents (children, elderly, etc.)</td>\n",
       "      <td>21.0</td>\n",
       "      <td>No, I am not new to coding and did not learn n...</td>\n",
       "      <td>NaN</td>\n",
       "      <td>Yes, I learned how to use AI-enabled tools for...</td>\n",
       "      <td>...</td>\n",
       "      <td>NaN</td>\n",
       "      <td>NaN</td>\n",
       "      <td>NaN</td>\n",
       "      <td>NaN</td>\n",
       "      <td>NaN</td>\n",
       "      <td>NaN</td>\n",
       "      <td>When I don’t trust AI’s answers</td>\n",
       "      <td>critical thinking, the skill to define the tas...</td>\n",
       "      <td>60000.0</td>\n",
       "      <td>7.0</td>\n",
       "    </tr>\n",
       "  </tbody>\n",
       "</table>\n",
       "<p>5 rows × 170 columns</p>\n",
       "</div>"
      ],
      "text/plain": [
       "   ResponseId                      MainBranch              Age  \\\n",
       "0           1  I am a developer by profession  25-34 years old   \n",
       "1           2  I am a developer by profession  25-34 years old   \n",
       "2           3  I am a developer by profession  35-44 years old   \n",
       "3           4  I am a developer by profession  35-44 years old   \n",
       "4           5  I am a developer by profession  35-44 years old   \n",
       "\n",
       "                                           EdLevel  \\\n",
       "0  Master’s degree (M.A., M.S., M.Eng., MBA, etc.)   \n",
       "1              Associate degree (A.A., A.S., etc.)   \n",
       "2     Bachelor’s degree (B.A., B.S., B.Eng., etc.)   \n",
       "3     Bachelor’s degree (B.A., B.S., B.Eng., etc.)   \n",
       "4  Master’s degree (M.A., M.S., M.Eng., MBA, etc.)   \n",
       "\n",
       "                                          Employment  \\\n",
       "0                                           Employed   \n",
       "1                                           Employed   \n",
       "2  Independent contractor, freelancer, or self-em...   \n",
       "3                                           Employed   \n",
       "4  Independent contractor, freelancer, or self-em...   \n",
       "\n",
       "                                    EmploymentAddl  WorkExp  \\\n",
       "0  Caring for dependents (children, elderly, etc.)      8.0   \n",
       "1                                              NaN      2.0   \n",
       "2                                None of the above     10.0   \n",
       "3                                None of the above      4.0   \n",
       "4  Caring for dependents (children, elderly, etc.)     21.0   \n",
       "\n",
       "                                     LearnCodeChoose  \\\n",
       "0  Yes, I am not new to coding but am learning ne...   \n",
       "1  Yes, I am not new to coding but am learning ne...   \n",
       "2  Yes, I am not new to coding but am learning ne...   \n",
       "3  Yes, I am not new to coding but am learning ne...   \n",
       "4  No, I am not new to coding and did not learn n...   \n",
       "\n",
       "                                           LearnCode  \\\n",
       "0  Online Courses or Certification (includes all ...   \n",
       "1  Online Courses or Certification (includes all ...   \n",
       "2  Online Courses or Certification (includes all ...   \n",
       "3  Other online resources (e.g. standard search, ...   \n",
       "4                                                NaN   \n",
       "\n",
       "                                         LearnCodeAI  ...  \\\n",
       "0  Yes, I learned how to use AI-enabled tools for...  ...   \n",
       "1  Yes, I learned how to use AI-enabled tools for...  ...   \n",
       "2  Yes, I learned how to use AI-enabled tools for...  ...   \n",
       "3  Yes, I learned how to use AI-enabled tools for...  ...   \n",
       "4  Yes, I learned how to use AI-enabled tools for...  ...   \n",
       "\n",
       "  AIAgentOrchestration  AIAgentOrchWrite AIAgentObserveSecure AIAgentObsWrite  \\\n",
       "0            Vertex AI               NaN                  NaN             NaN   \n",
       "1                  NaN               NaN                  NaN             NaN   \n",
       "2                  NaN               NaN                  NaN             NaN   \n",
       "3                  NaN               NaN                  NaN             NaN   \n",
       "4                  NaN               NaN                  NaN             NaN   \n",
       "\n",
       "                                    AIAgentExternal AIAgentExtWrite  \\\n",
       "0                                           ChatGPT             NaN   \n",
       "1                                               NaN             NaN   \n",
       "2  ChatGPT;Claude Code;GitHub Copilot;Google Gemini             NaN   \n",
       "3                               ChatGPT;Claude Code             NaN   \n",
       "4                                               NaN             NaN   \n",
       "\n",
       "                                             AIHuman  \\\n",
       "0                    When I don’t trust AI’s answers   \n",
       "1  When I don’t trust AI’s answers;When I want to...   \n",
       "2  When I don’t trust AI’s answers;When I want to...   \n",
       "3  When I don’t trust AI’s answers;When I want to...   \n",
       "4                    When I don’t trust AI’s answers   \n",
       "\n",
       "                                              AIOpen  ConvertedCompYearly  \\\n",
       "0              Troubleshooting, profiling, debugging              61256.0   \n",
       "1                          All skills. AI is a flop.             104413.0   \n",
       "2  Understand how things actually work, problem s...              53061.0   \n",
       "3                                                NaN              36197.0   \n",
       "4  critical thinking, the skill to define the tas...              60000.0   \n",
       "\n",
       "   JobSat  \n",
       "0    10.0  \n",
       "1     9.0  \n",
       "2     8.0  \n",
       "3     6.0  \n",
       "4     7.0  \n",
       "\n",
       "[5 rows x 170 columns]"
      ]
     },
     "execution_count": 14,
     "metadata": {},
     "output_type": "execute_result"
    }
   ],
   "source": [
    "df_results = pd.read_csv(r\"C:\\Users\\Світлана\\Downloads\\Materials Python\\survey_results_public.csv\")\n",
    "df_results.head()                                       # Verifying the data (1)"
   ]
  },
  {
   "cell_type": "code",
   "execution_count": 15,
   "id": "1989cfb5-9e03-45cb-95a7-6817680e0ef3",
   "metadata": {},
   "outputs": [
    {
     "name": "stdout",
     "output_type": "stream",
     "text": [
      "<class 'pandas.core.frame.DataFrame'>\n",
      "RangeIndex: 49123 entries, 0 to 49122\n",
      "Columns: 170 entries, ResponseId to JobSat\n",
      "dtypes: float64(50), int64(1), object(119)\n",
      "memory usage: 63.7+ MB\n"
     ]
    }
   ],
   "source": [
    "df_results.info()"
   ]
  },
  {
   "cell_type": "code",
   "execution_count": 17,
   "id": "ebbcec9c-cecb-4f1b-9cbc-2821a208901e",
   "metadata": {},
   "outputs": [
    {
     "data": {
      "text/plain": [
       "Index(['ResponseId', 'MainBranch', 'Age', 'EdLevel', 'Employment',\n",
       "       'EmploymentAddl', 'WorkExp', 'LearnCodeChoose', 'LearnCode',\n",
       "       'LearnCodeAI',\n",
       "       ...\n",
       "       'AIAgentOrchestration', 'AIAgentOrchWrite', 'AIAgentObserveSecure',\n",
       "       'AIAgentObsWrite', 'AIAgentExternal', 'AIAgentExtWrite', 'AIHuman',\n",
       "       'AIOpen', 'ConvertedCompYearly', 'JobSat'],\n",
       "      dtype='object', length=170)"
      ]
     },
     "execution_count": 17,
     "metadata": {},
     "output_type": "execute_result"
    }
   ],
   "source": [
    "df_results.columns"
   ]
  },
  {
   "cell_type": "code",
   "execution_count": 18,
   "id": "ed13c92f-20d7-4e50-bf2f-dd30d1196c6d",
   "metadata": {},
   "outputs": [],
   "source": [
    "df_schema = pd.read_csv(r\"C:\\Users\\Світлана\\Downloads\\Materials Python\\survey_results_schema.csv\")"
   ]
  },
  {
   "cell_type": "code",
   "execution_count": 19,
   "id": "f3cbfebf-4018-436d-b0cd-7a928d3cb270",
   "metadata": {},
   "outputs": [
    {
     "data": {
      "text/html": [
       "<div>\n",
       "<style scoped>\n",
       "    .dataframe tbody tr th:only-of-type {\n",
       "        vertical-align: middle;\n",
       "    }\n",
       "\n",
       "    .dataframe tbody tr th {\n",
       "        vertical-align: top;\n",
       "    }\n",
       "\n",
       "    .dataframe thead th {\n",
       "        text-align: right;\n",
       "    }\n",
       "</style>\n",
       "<table border=\"1\" class=\"dataframe\">\n",
       "  <thead>\n",
       "    <tr style=\"text-align: right;\">\n",
       "      <th></th>\n",
       "      <th>qid</th>\n",
       "      <th>qname</th>\n",
       "      <th>question</th>\n",
       "      <th>type</th>\n",
       "      <th>sub</th>\n",
       "      <th>sq_id</th>\n",
       "    </tr>\n",
       "  </thead>\n",
       "  <tbody>\n",
       "    <tr>\n",
       "      <th>36</th>\n",
       "      <td>QID27</td>\n",
       "      <td>JobSatPoints_15</td>\n",
       "      <td>Rank the following attributes of your current ...</td>\n",
       "      <td>RO</td>\n",
       "      <td>Other (please specify):</td>\n",
       "      <td>15.0</td>\n",
       "    </tr>\n",
       "    <tr>\n",
       "      <th>18</th>\n",
       "      <td>QID19</td>\n",
       "      <td>TechOppose_13</td>\n",
       "      <td>What would turn you off or cause you to reject...</td>\n",
       "      <td>RO</td>\n",
       "      <td>Outdated or obsolete technology or features</td>\n",
       "      <td>8.0</td>\n",
       "    </tr>\n",
       "    <tr>\n",
       "      <th>3</th>\n",
       "      <td>QID18</td>\n",
       "      <td>TechEndorse_4</td>\n",
       "      <td>What attracts you to a technology or causes yo...</td>\n",
       "      <td>RO</td>\n",
       "      <td>Customizable and manageable codebase</td>\n",
       "      <td>4.0</td>\n",
       "    </tr>\n",
       "    <tr>\n",
       "      <th>89</th>\n",
       "      <td>QID58</td>\n",
       "      <td>WebframeHaveEntry</td>\n",
       "      <td>Were the web frameworks and web technologies y...</td>\n",
       "      <td>TE</td>\n",
       "      <td>NaN</td>\n",
       "      <td>NaN</td>\n",
       "    </tr>\n",
       "    <tr>\n",
       "      <th>127</th>\n",
       "      <td>QID87</td>\n",
       "      <td>AIAgentImpact</td>\n",
       "      <td>To what extent do you agree with the following...</td>\n",
       "      <td>Matrix</td>\n",
       "      <td>NaN</td>\n",
       "      <td>NaN</td>\n",
       "    </tr>\n",
       "  </tbody>\n",
       "</table>\n",
       "</div>"
      ],
      "text/plain": [
       "       qid              qname  \\\n",
       "36   QID27    JobSatPoints_15   \n",
       "18   QID19      TechOppose_13   \n",
       "3    QID18      TechEndorse_4   \n",
       "89   QID58  WebframeHaveEntry   \n",
       "127  QID87      AIAgentImpact   \n",
       "\n",
       "                                              question    type  \\\n",
       "36   Rank the following attributes of your current ...      RO   \n",
       "18   What would turn you off or cause you to reject...      RO   \n",
       "3    What attracts you to a technology or causes yo...      RO   \n",
       "89   Were the web frameworks and web technologies y...      TE   \n",
       "127  To what extent do you agree with the following...  Matrix   \n",
       "\n",
       "                                             sub  sq_id  \n",
       "36                       Other (please specify):   15.0  \n",
       "18   Outdated or obsolete technology or features    8.0  \n",
       "3           Customizable and manageable codebase    4.0  \n",
       "89                                           NaN    NaN  \n",
       "127                                          NaN    NaN  "
      ]
     },
     "execution_count": 19,
     "metadata": {},
     "output_type": "execute_result"
    }
   ],
   "source": [
    "df_schema.sample(5)                                     # Verifying the data (2)"
   ]
  },
  {
   "cell_type": "markdown",
   "id": "7a2ab74e-7a48-41e8-97b7-4b109adc7525",
   "metadata": {},
   "source": [
    "#### 1. Determine the total number of respondents and how many answered all questions."
   ]
  },
  {
   "cell_type": "code",
   "execution_count": 20,
   "id": "90559f93-74c7-4753-b74f-05c07e10eb6b",
   "metadata": {},
   "outputs": [
    {
     "data": {
      "text/plain": [
       "49123"
      ]
     },
     "execution_count": 20,
     "metadata": {},
     "output_type": "execute_result"
    }
   ],
   "source": [
    "df_results.ResponseId.nunique()                           # Determine the total unique number of respondents "
   ]
  },
  {
   "cell_type": "code",
   "execution_count": 21,
   "id": "58be6039-df7b-47af-a7bd-b27fe7259cdd",
   "metadata": {},
   "outputs": [
    {
     "data": {
      "text/plain": [
       "{'AIAcc',\n",
       " 'AIAgentChange',\n",
       " 'AIAgentExtWrite',\n",
       " 'AIAgentExternal',\n",
       " 'AIAgentKnowWrite',\n",
       " 'AIAgentKnowledge',\n",
       " 'AIAgentObsWrite',\n",
       " 'AIAgentObserveSecure',\n",
       " 'AIAgentOrchWrite',\n",
       " 'AIAgentOrchestration',\n",
       " 'AIAgent_Uses',\n",
       " 'AIAgents',\n",
       " 'AIComplex',\n",
       " 'AIExplain',\n",
       " 'AIFrustration',\n",
       " 'AIHuman',\n",
       " 'AILearnHow',\n",
       " 'AIModelsChoice',\n",
       " 'AIModelsHaveEntry',\n",
       " 'AIModelsWantEntry',\n",
       " 'AIOpen',\n",
       " 'AISelect',\n",
       " 'AISent',\n",
       " 'AIThreat',\n",
       " 'Age',\n",
       " 'AgentUsesGeneral',\n",
       " 'CommPlatformHaveEntr',\n",
       " 'CommPlatformWantEntr',\n",
       " 'CompTotal',\n",
       " 'Country',\n",
       " 'Currency',\n",
       " 'DatabaseChoice',\n",
       " 'DatabaseHaveEntry',\n",
       " 'DatabaseWantEntry',\n",
       " 'DevEnvHaveEntry',\n",
       " 'DevEnvWantEntry',\n",
       " 'DevEnvsChoice',\n",
       " 'DevType',\n",
       " 'EdLevel',\n",
       " 'Employment',\n",
       " 'EmploymentAddl',\n",
       " 'ICorPM',\n",
       " 'Industry',\n",
       " 'JobSat',\n",
       " 'JobSatPoints_1',\n",
       " 'JobSatPoints_10',\n",
       " 'JobSatPoints_11',\n",
       " 'JobSatPoints_13',\n",
       " 'JobSatPoints_14',\n",
       " 'JobSatPoints_15',\n",
       " 'JobSatPoints_15_TEXT',\n",
       " 'JobSatPoints_16',\n",
       " 'JobSatPoints_4',\n",
       " 'JobSatPoints_5',\n",
       " 'JobSatPoints_6',\n",
       " 'JobSatPoints_7',\n",
       " 'JobSatPoints_8',\n",
       " 'JobSatPoints_9',\n",
       " 'LanguageChoice',\n",
       " 'LanguagesHaveEntry',\n",
       " 'LanguagesWantEntry',\n",
       " 'LearnCode',\n",
       " 'LearnCodeAI',\n",
       " 'LearnCodeChoose',\n",
       " 'MainBranch',\n",
       " 'NewRole',\n",
       " 'OfficeStackHaveEntry',\n",
       " 'OfficeStackWantEntry',\n",
       " 'OrgSize',\n",
       " 'PlatformChoice',\n",
       " 'PlatformHaveEntry',\n",
       " 'PlatformWantEntry',\n",
       " 'PurchaseInfluence',\n",
       " 'RemoteWork',\n",
       " 'SOAccount',\n",
       " 'SOComm',\n",
       " 'SODuration',\n",
       " 'SOFriction',\n",
       " 'SOPartFreq',\n",
       " 'SOTagsHaveEntry',\n",
       " 'SOTagsWant Entry',\n",
       " 'SOVisitFreq',\n",
       " 'SO_Actions_1',\n",
       " 'SO_Actions_10',\n",
       " 'SO_Actions_15',\n",
       " 'SO_Actions_15_TEXT',\n",
       " 'SO_Actions_16',\n",
       " 'SO_Actions_3',\n",
       " 'SO_Actions_4',\n",
       " 'SO_Actions_5',\n",
       " 'SO_Actions_6',\n",
       " 'SO_Actions_7',\n",
       " 'SO_Actions_9',\n",
       " 'SO_Dev_Content',\n",
       " 'TechEndorseIntro',\n",
       " 'TechEndorse_1',\n",
       " 'TechEndorse_13',\n",
       " 'TechEndorse_13_TEXT',\n",
       " 'TechEndorse_2',\n",
       " 'TechEndorse_3',\n",
       " 'TechEndorse_4',\n",
       " 'TechEndorse_5',\n",
       " 'TechEndorse_6',\n",
       " 'TechEndorse_7',\n",
       " 'TechEndorse_8',\n",
       " 'TechEndorse_9',\n",
       " 'TechOppose_1',\n",
       " 'TechOppose_11',\n",
       " 'TechOppose_13',\n",
       " 'TechOppose_15',\n",
       " 'TechOppose_15_TEXT',\n",
       " 'TechOppose_16',\n",
       " 'TechOppose_2',\n",
       " 'TechOppose_3',\n",
       " 'TechOppose_5',\n",
       " 'TechOppose_7',\n",
       " 'TechOppose_9',\n",
       " 'ToolCountPersonal',\n",
       " 'ToolCountWork',\n",
       " 'WebframeChoice',\n",
       " 'WebframeHaveEntry',\n",
       " 'WebframeWantEntry',\n",
       " 'WorkExp',\n",
       " 'YearsCode'}"
      ]
     },
     "execution_count": 21,
     "metadata": {},
     "output_type": "execute_result"
    }
   ],
   "source": [
    "qs_set = set(df_schema['qname']) & set(df_results.columns) # filter out only the relevant columns in the survey data — that is,\n",
    "                                                              those that exactly match the questions from the schema file\n",
    "qs_set"
   ]
  },
  {
   "cell_type": "code",
   "execution_count": 22,
   "id": "26d79363-c9f4-42f2-b81c-738cfe5ecdf9",
   "metadata": {},
   "outputs": [
    {
     "data": {
      "text/plain": [
       "JobSatPoints_8          24206\n",
       "AIAgentObserveSecure    46432\n",
       "SO_Actions_15_TEXT      48300\n",
       "TechEndorse_2           13180\n",
       "SOTagsHaveEntry         48666\n",
       "                        ...  \n",
       "TechEndorseIntro        11603\n",
       "EmploymentAddl           4303\n",
       "YearsCode                6123\n",
       "PlatformWantEntry       46027\n",
       "SO_Actions_7            22882\n",
       "Length: 124, dtype: int64"
      ]
     },
     "execution_count": 22,
     "metadata": {},
     "output_type": "execute_result"
    }
   ],
   "source": [
    "df_results[list(qs_set)].isnull().sum()               # The number of missing values ​​in each column"
   ]
  },
  {
   "cell_type": "code",
   "execution_count": 23,
   "id": "c60d1cf8-8508-485f-9af8-e47d0cbb4764",
   "metadata": {},
   "outputs": [
    {
     "data": {
      "text/plain": [
       "0"
      ]
     },
     "execution_count": 23,
     "metadata": {},
     "output_type": "execute_result"
    }
   ],
   "source": [
    "df_results[list(qs_set)].dropna().shape[0]                # 1 way not work"
   ]
  },
  {
   "cell_type": "code",
   "execution_count": 24,
   "id": "2162766f-b1fc-4a19-9076-ce22188cc648",
   "metadata": {},
   "outputs": [
    {
     "data": {
      "text/plain": [
       "49123"
      ]
     },
     "execution_count": 24,
     "metadata": {},
     "output_type": "execute_result"
    }
   ],
   "source": [
    "df_results[list(qs_set)].dropna(how=\"all\").shape[0]       # 2 way is work - Determine the total number of respondents who answered all questions"
   ]
  },
  {
   "cell_type": "markdown",
   "id": "8c00650e-4a58-4997-ab51-cb2bbbf616d6",
   "metadata": {},
   "source": [
    "#### 2. Calculate measures of central tendency (mean, median, mode) for work experience (WorkExp)"
   ]
  },
  {
   "cell_type": "code",
   "execution_count": 25,
   "id": "840a3f91-e0aa-44cc-80cf-2a7cf0c13234",
   "metadata": {},
   "outputs": [],
   "source": [
    "df_results = pd.read_csv(r\"C:\\Users\\Світлана\\Downloads\\Materials Python\\survey_results_public.csv\")"
   ]
  },
  {
   "cell_type": "code",
   "execution_count": 26,
   "id": "db1cb7ee-5e32-4e0b-a780-83096845567e",
   "metadata": {},
   "outputs": [
    {
     "name": "stdout",
     "output_type": "stream",
     "text": [
      "AVG: 13.37\n",
      "Median: 10.0\n",
      "Mode: 0    10.0\n",
      "Name: WorkExp, dtype: float64\n"
     ]
    }
   ],
   "source": [
    "print('AVG:', round(df_results.WorkExp.mean(),2))\n",
    "print('Median:', round(df_results.WorkExp.median(),2))        # first solution to the problem\n",
    "print('Mode:', round(df_results.WorkExp.mode(),2))"
   ]
  },
  {
   "cell_type": "code",
   "execution_count": 27,
   "id": "8abec38a-7694-463e-8427-4d7bb4492dd9",
   "metadata": {},
   "outputs": [
    {
     "data": {
      "text/plain": [
       "count    42844.000000\n",
       "mean        13.370810\n",
       "std         10.801917\n",
       "min          1.000000\n",
       "25%          5.000000\n",
       "50%         10.000000\n",
       "75%         20.000000\n",
       "max        100.000000\n",
       "Name: WorkExp, dtype: float64"
      ]
     },
     "execution_count": 27,
     "metadata": {},
     "output_type": "execute_result"
    }
   ],
   "source": [
    "df_results[\"WorkExp\"].describe()                              # second solution to the problem"
   ]
  },
  {
   "cell_type": "markdown",
   "id": "1977c903-2c45-4390-b98b-c0f0a4c8bf23",
   "metadata": {},
   "source": [
    "#### 3. Count the number of developers working remotely."
   ]
  },
  {
   "cell_type": "code",
   "execution_count": 28,
   "id": "7755ee40-8f9a-4b47-8972-fd7e7d10c3cd",
   "metadata": {},
   "outputs": [
    {
     "data": {
      "text/plain": [
       "17652"
      ]
     },
     "execution_count": 28,
     "metadata": {},
     "output_type": "execute_result"
    }
   ],
   "source": [
    "df_results[df_results['RemoteWork'].apply(lambda x: 'remote' in str(x).lower())]['ResponseId'].nunique() # 1 way"
   ]
  },
  {
   "cell_type": "code",
   "execution_count": 29,
   "id": "76e1a271-fce4-47c5-a550-cb0feef455cb",
   "metadata": {},
   "outputs": [
    {
     "data": {
      "text/plain": [
       "17652"
      ]
     },
     "execution_count": 29,
     "metadata": {},
     "output_type": "execute_result"
    }
   ],
   "source": [
    "df_results[df_results['RemoteWork'].str.contains('Remote', case=False, na=False)]['ResponseId'].nunique()  # 2 way"
   ]
  },
  {
   "cell_type": "markdown",
   "id": "9cf0d87c-6d06-4635-9af6-1d1f62b5559a",
   "metadata": {},
   "source": [
    "#### 4. Identify what percentage of respondents code in Python"
   ]
  },
  {
   "cell_type": "code",
   "execution_count": 30,
   "id": "1000db04-8ea4-4f9e-ab28-08ee53c6a539",
   "metadata": {},
   "outputs": [
    {
     "data": {
      "text/plain": [
       "49123"
      ]
     },
     "execution_count": 30,
     "metadata": {},
     "output_type": "execute_result"
    }
   ],
   "source": [
    "df_results.ResponseId.nunique()"
   ]
  },
  {
   "cell_type": "code",
   "execution_count": 31,
   "id": "0c4cdbf5-df61-4956-aa0f-d687a63609de",
   "metadata": {},
   "outputs": [
    {
     "name": "stdout",
     "output_type": "stream",
     "text": [
      "Percentage of respondents who program on Python:  37.54656678134479\n"
     ]
    }
   ],
   "source": [
    "python_quantity = df_results[df_results['LanguageHaveWorkedWith'].apply(lambda x: 'python' in str(x).lower())]['ResponseId'].nunique()\n",
    "print('Percentage of respondents who program on Python: ', python_quantity / df_results.ResponseId.nunique()*100)"
   ]
  },
  {
   "cell_type": "markdown",
   "id": "ac5e4572-19cd-484d-80a0-8ae3f9155ef9",
   "metadata": {},
   "source": [
    "#### 5. Find out how many learned programming through online courses"
   ]
  },
  {
   "cell_type": "code",
   "execution_count": 32,
   "id": "34125611-3143-4db4-849d-9f6e06692ee5",
   "metadata": {},
   "outputs": [
    {
     "data": {
      "text/plain": [
       "10957"
      ]
     },
     "execution_count": 32,
     "metadata": {},
     "output_type": "execute_result"
    }
   ],
   "source": [
    "df_results[df_results['LearnCode'].apply(lambda x: 'online courses' in str(x).lower())]['ResponseId'].nunique()   # 1 way (apply(lambda x:)"
   ]
  },
  {
   "cell_type": "code",
   "execution_count": 33,
   "id": "016d5614-2b11-4ef1-9008-6e8c792aef21",
   "metadata": {},
   "outputs": [
    {
     "data": {
      "text/plain": [
       "10957"
      ]
     },
     "execution_count": 33,
     "metadata": {},
     "output_type": "execute_result"
    }
   ],
   "source": [
    "df_results[df_results['LearnCode'].str.contains('online courses', case=False, na=False)]['ResponseId'].nunique()  # 2 way"
   ]
  },
  {
   "cell_type": "markdown",
   "id": "c19d97b4-00cd-4ff4-82b3-ec1f501c7d15",
   "metadata": {},
   "source": [
    "#### 6. For developers who use Python, calculate the average and median yearly compensation by country (ConvertedCompYearly)."
   ]
  },
  {
   "cell_type": "code",
   "execution_count": 34,
   "id": "a27bbe52-542c-4981-9dda-b0f91a4e3198",
   "metadata": {},
   "outputs": [
    {
     "data": {
      "text/html": [
       "<div>\n",
       "<style scoped>\n",
       "    .dataframe tbody tr th:only-of-type {\n",
       "        vertical-align: middle;\n",
       "    }\n",
       "\n",
       "    .dataframe tbody tr th {\n",
       "        vertical-align: top;\n",
       "    }\n",
       "\n",
       "    .dataframe thead th {\n",
       "        text-align: right;\n",
       "    }\n",
       "</style>\n",
       "<table border=\"1\" class=\"dataframe\">\n",
       "  <thead>\n",
       "    <tr style=\"text-align: right;\">\n",
       "      <th></th>\n",
       "      <th>mean</th>\n",
       "      <th>median</th>\n",
       "    </tr>\n",
       "    <tr>\n",
       "      <th>Country</th>\n",
       "      <th></th>\n",
       "      <th></th>\n",
       "    </tr>\n",
       "  </thead>\n",
       "  <tbody>\n",
       "    <tr>\n",
       "      <th>Oman</th>\n",
       "      <td>390135.000000</td>\n",
       "      <td>390135.0</td>\n",
       "    </tr>\n",
       "    <tr>\n",
       "      <th>Andorra</th>\n",
       "      <td>226103.500000</td>\n",
       "      <td>226103.5</td>\n",
       "    </tr>\n",
       "    <tr>\n",
       "      <th>Viet Nam</th>\n",
       "      <td>218837.166667</td>\n",
       "      <td>8254.0</td>\n",
       "    </tr>\n",
       "    <tr>\n",
       "      <th>United States of America</th>\n",
       "      <td>173295.260243</td>\n",
       "      <td>150000.0</td>\n",
       "    </tr>\n",
       "    <tr>\n",
       "      <th>Switzerland</th>\n",
       "      <td>156456.600000</td>\n",
       "      <td>142592.0</td>\n",
       "    </tr>\n",
       "    <tr>\n",
       "      <th>...</th>\n",
       "      <td>...</td>\n",
       "      <td>...</td>\n",
       "    </tr>\n",
       "    <tr>\n",
       "      <th>Niger</th>\n",
       "      <td>NaN</td>\n",
       "      <td>NaN</td>\n",
       "    </tr>\n",
       "    <tr>\n",
       "      <th>Palau</th>\n",
       "      <td>NaN</td>\n",
       "      <td>NaN</td>\n",
       "    </tr>\n",
       "    <tr>\n",
       "      <th>Papua New Guinea</th>\n",
       "      <td>NaN</td>\n",
       "      <td>NaN</td>\n",
       "    </tr>\n",
       "    <tr>\n",
       "      <th>Senegal</th>\n",
       "      <td>NaN</td>\n",
       "      <td>NaN</td>\n",
       "    </tr>\n",
       "    <tr>\n",
       "      <th>Tajikistan</th>\n",
       "      <td>NaN</td>\n",
       "      <td>NaN</td>\n",
       "    </tr>\n",
       "  </tbody>\n",
       "</table>\n",
       "<p>167 rows × 2 columns</p>\n",
       "</div>"
      ],
      "text/plain": [
       "                                   mean    median\n",
       "Country                                          \n",
       "Oman                      390135.000000  390135.0\n",
       "Andorra                   226103.500000  226103.5\n",
       "Viet Nam                  218837.166667    8254.0\n",
       "United States of America  173295.260243  150000.0\n",
       "Switzerland               156456.600000  142592.0\n",
       "...                                 ...       ...\n",
       "Niger                               NaN       NaN\n",
       "Palau                               NaN       NaN\n",
       "Papua New Guinea                    NaN       NaN\n",
       "Senegal                             NaN       NaN\n",
       "Tajikistan                          NaN       NaN\n",
       "\n",
       "[167 rows x 2 columns]"
      ]
     },
     "execution_count": 34,
     "metadata": {},
     "output_type": "execute_result"
    }
   ],
   "source": [
    "df_results[df_results['LanguageHaveWorkedWith'].apply(lambda x: 'python' in str(x).lower())]\\\n",
    "     .groupby('Country')['ConvertedCompYearly']\\                       # Grouping and aggregating data based on lambda\n",
    "     .agg(['mean', 'median'])\\\n",
    "     .sort_values('mean', ascending=False)"
   ]
  },
  {
   "cell_type": "markdown",
   "id": "648bb336-89dd-4a48-9ac9-9cdc341a9308",
   "metadata": {},
   "source": [
    "#### 7. Identify five respondents with the highest compensation and analyze their education levels."
   ]
  },
  {
   "cell_type": "code",
   "execution_count": 35,
   "id": "ac7c70bb-a8fa-42ba-93bb-8a51fb293aa8",
   "metadata": {},
   "outputs": [
    {
     "data": {
      "text/html": [
       "<div>\n",
       "<style scoped>\n",
       "    .dataframe tbody tr th:only-of-type {\n",
       "        vertical-align: middle;\n",
       "    }\n",
       "\n",
       "    .dataframe tbody tr th {\n",
       "        vertical-align: top;\n",
       "    }\n",
       "\n",
       "    .dataframe thead th {\n",
       "        text-align: right;\n",
       "    }\n",
       "</style>\n",
       "<table border=\"1\" class=\"dataframe\">\n",
       "  <thead>\n",
       "    <tr style=\"text-align: right;\">\n",
       "      <th></th>\n",
       "      <th>index</th>\n",
       "      <th>EdLevel</th>\n",
       "      <th>ConvertedCompYearly</th>\n",
       "    </tr>\n",
       "  </thead>\n",
       "  <tbody>\n",
       "    <tr>\n",
       "      <th>0</th>\n",
       "      <td>34267</td>\n",
       "      <td>Associate degree (A.A., A.S., etc.)</td>\n",
       "      <td>50000000.0</td>\n",
       "    </tr>\n",
       "    <tr>\n",
       "      <th>1</th>\n",
       "      <td>28700</td>\n",
       "      <td>Master’s degree (M.A., M.S., M.Eng., MBA, etc.)</td>\n",
       "      <td>33552715.0</td>\n",
       "    </tr>\n",
       "    <tr>\n",
       "      <th>2</th>\n",
       "      <td>43143</td>\n",
       "      <td>Associate degree (A.A., A.S., etc.)</td>\n",
       "      <td>18387548.0</td>\n",
       "    </tr>\n",
       "    <tr>\n",
       "      <th>3</th>\n",
       "      <td>35353</td>\n",
       "      <td>Bachelor’s degree (B.A., B.S., B.Eng., etc.)</td>\n",
       "      <td>15430267.0</td>\n",
       "    </tr>\n",
       "    <tr>\n",
       "      <th>4</th>\n",
       "      <td>45971</td>\n",
       "      <td>Master’s degree (M.A., M.S., M.Eng., MBA, etc.)</td>\n",
       "      <td>13921760.0</td>\n",
       "    </tr>\n",
       "  </tbody>\n",
       "</table>\n",
       "</div>"
      ],
      "text/plain": [
       "   index                                          EdLevel  ConvertedCompYearly\n",
       "0  34267              Associate degree (A.A., A.S., etc.)           50000000.0\n",
       "1  28700  Master’s degree (M.A., M.S., M.Eng., MBA, etc.)           33552715.0\n",
       "2  43143              Associate degree (A.A., A.S., etc.)           18387548.0\n",
       "3  35353     Bachelor’s degree (B.A., B.S., B.Eng., etc.)           15430267.0\n",
       "4  45971  Master’s degree (M.A., M.S., M.Eng., MBA, etc.)           13921760.0"
      ]
     },
     "execution_count": 35,
     "metadata": {},
     "output_type": "execute_result"
    }
   ],
   "source": [
    "df_results[['EdLevel', 'ConvertedCompYearly']]\\\n",
    "     .sort_values('ConvertedCompYearly', ascending=False)\\\n",
    "     .reset_index()\\\n",
    "     .iloc[:5]"
   ]
  },
  {
   "cell_type": "markdown",
   "id": "83a98d23-94f0-49b0-b561-5448529bfb59",
   "metadata": {},
   "source": [
    "#### * Create a boolean column: is there Python in the answers"
   ]
  },
  {
   "cell_type": "code",
   "execution_count": 36,
   "id": "e110dbd5-0c66-4b15-895b-b2c7022dc1c5",
   "metadata": {},
   "outputs": [
    {
     "name": "stdout",
     "output_type": "stream",
     "text": [
      "                 Age  PercentPython\n",
      "0    18-24 years old          40.03\n",
      "1    25-34 years old          36.94\n",
      "2    35-44 years old          36.71\n",
      "3    45-54 years old          38.66\n",
      "4    55-64 years old          37.24\n",
      "5  65 years or older          31.63\n",
      "6  Prefer not to say          31.22\n"
     ]
    }
   ],
   "source": [
    "# 1) create a boolean column: is there Python in the answers\n",
    "df_results[\"UsesPython\"] = df_results[\"LanguageHaveWorkedWith\"].str.contains(\"Python\", case=False, na=False)\n",
    "\n",
    "# 2)group by age category\n",
    "python_by_age = (\n",
    "    df_results.groupby(\"Age\")[\"UsesPython\"]\n",
    "    .mean() * 100                             # середнє від True/False = відсоток True\n",
    ")\n",
    "\n",
    "#  3) form it into a table:\n",
    "python_by_age = python_by_age.round(2).reset_index()\n",
    "python_by_age.columns = [\"Age\", \"PercentPython\"]\n",
    "\n",
    "print(python_by_age)"
   ]
  },
  {
   "cell_type": "markdown",
   "id": "92aa6b3e-f48a-403b-b4d1-f01c5d1fa09d",
   "metadata": {},
   "source": [
    "#### * Most common industries among high-compensation (75th percentile) remote developers."
   ]
  },
  {
   "cell_type": "code",
   "execution_count": 37,
   "id": "d5a1d31d-bead-432f-b0fe-9fff37507733",
   "metadata": {},
   "outputs": [
    {
     "name": "stdout",
     "output_type": "stream",
     "text": [
      "Industry\n",
      "Software Development                          1501\n",
      "Other:                                         267\n",
      "Fintech                                        254\n",
      "Healthcare                                     236\n",
      "Internet, Telecomm or Information Services     192\n",
      "Banking/Financial Services                     156\n",
      "Government                                     118\n",
      "Media & Advertising Services                    97\n",
      "Retail and Consumer Services                    94\n",
      "Computer Systems Design and Services            92\n",
      "Name: count, dtype: int64\n"
     ]
    }
   ],
   "source": [
    "# 1. Calculate the 75th percentile of compensation\n",
    "q75 = df_results[\"ConvertedCompYearly\"].quantile(0.75)\n",
    "\n",
    "# 2. Filter respondents:\n",
    "# - compensation >= q75\n",
    "# - RemoteWork contains \"remote\"\n",
    "top_remote = df_results[\n",
    "    (df_results[\"ConvertedCompYearly\"] >= q75) &\n",
    "    (df_results[\"RemoteWork\"].str.contains(\"remote\", case=False, na=False))\n",
    "]\n",
    "\n",
    "# 3. Counting the most common industries\n",
    "industry_counts = top_remote[\"Industry\"].value_counts().head(10)\n",
    "\n",
    "print(industry_counts)"
   ]
  },
  {
   "cell_type": "markdown",
   "id": "bb028263-bbb8-41a8-af6c-c87b1246d596",
   "metadata": {},
   "source": [
    "#### Project Format:\n",
    "Implemented in Jupyter Notebook.\n",
    "📁 File: stackoverflow_survey_analysis.ipynb"
   ]
  }
 ],
 "metadata": {
  "kernelspec": {
   "display_name": "Python 3 (ipykernel)",
   "language": "python",
   "name": "python3"
  },
  "language_info": {
   "codemirror_mode": {
    "name": "ipython",
    "version": 3
   },
   "file_extension": ".py",
   "mimetype": "text/x-python",
   "name": "python",
   "nbconvert_exporter": "python",
   "pygments_lexer": "ipython3",
   "version": "3.13.5"
  }
 },
 "nbformat": 4,
 "nbformat_minor": 5
}
